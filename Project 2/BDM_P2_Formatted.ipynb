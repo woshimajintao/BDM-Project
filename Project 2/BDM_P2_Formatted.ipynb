{
  "cells": [
    {
      "cell_type": "markdown",
      "metadata": {
        "id": "view-in-github",
        "colab_type": "text"
      },
      "source": [
        "<a href=\"https://colab.research.google.com/github/woshimajintao/BDM-Project/blob/main/Project%202/BDM_P2_Formatted.ipynb\" target=\"_parent\"><img src=\"https://colab.research.google.com/assets/colab-badge.svg\" alt=\"Open In Colab\"/></a>"
      ]
    },
    {
      "cell_type": "code",
      "execution_count": null,
      "metadata": {
        "colab": {
          "base_uri": "https://localhost:8080/"
        },
        "id": "xtl59G6OS8Ml",
        "outputId": "acd4ac5c-e601-498c-9420-59ff6e4351c3"
      },
      "outputs": [
        {
          "output_type": "stream",
          "name": "stdout",
          "text": [
            "Requirement already satisfied: pyspark in /usr/local/lib/python3.10/dist-packages (3.5.1)\n",
            "Requirement already satisfied: py4j==0.10.9.7 in /usr/local/lib/python3.10/dist-packages (from pyspark) (0.10.9.7)\n",
            "Requirement already satisfied: delta-spark in /usr/local/lib/python3.10/dist-packages (3.2.0)\n",
            "Requirement already satisfied: pyspark<3.6.0,>=3.5.0 in /usr/local/lib/python3.10/dist-packages (from delta-spark) (3.5.1)\n",
            "Requirement already satisfied: importlib-metadata>=1.0.0 in /usr/local/lib/python3.10/dist-packages (from delta-spark) (7.1.0)\n",
            "Requirement already satisfied: zipp>=0.5 in /usr/local/lib/python3.10/dist-packages (from importlib-metadata>=1.0.0->delta-spark) (3.19.2)\n",
            "Requirement already satisfied: py4j==0.10.9.7 in /usr/local/lib/python3.10/dist-packages (from pyspark<3.6.0,>=3.5.0->delta-spark) (0.10.9.7)\n",
            "Requirement already satisfied: statsmodels in /usr/local/lib/python3.10/dist-packages (0.14.2)\n",
            "Requirement already satisfied: numpy>=1.22.3 in /usr/local/lib/python3.10/dist-packages (from statsmodels) (1.25.2)\n",
            "Requirement already satisfied: scipy!=1.9.2,>=1.8 in /usr/local/lib/python3.10/dist-packages (from statsmodels) (1.11.4)\n",
            "Requirement already satisfied: pandas!=2.1.0,>=1.4 in /usr/local/lib/python3.10/dist-packages (from statsmodels) (2.0.3)\n",
            "Requirement already satisfied: patsy>=0.5.6 in /usr/local/lib/python3.10/dist-packages (from statsmodels) (0.5.6)\n",
            "Requirement already satisfied: packaging>=21.3 in /usr/local/lib/python3.10/dist-packages (from statsmodels) (24.1)\n",
            "Requirement already satisfied: python-dateutil>=2.8.2 in /usr/local/lib/python3.10/dist-packages (from pandas!=2.1.0,>=1.4->statsmodels) (2.8.2)\n",
            "Requirement already satisfied: pytz>=2020.1 in /usr/local/lib/python3.10/dist-packages (from pandas!=2.1.0,>=1.4->statsmodels) (2023.4)\n",
            "Requirement already satisfied: tzdata>=2022.1 in /usr/local/lib/python3.10/dist-packages (from pandas!=2.1.0,>=1.4->statsmodels) (2024.1)\n",
            "Requirement already satisfied: six in /usr/local/lib/python3.10/dist-packages (from patsy>=0.5.6->statsmodels) (1.16.0)\n",
            "Requirement already satisfied: mlflow in /usr/local/lib/python3.10/dist-packages (2.14.0)\n",
            "Requirement already satisfied: Flask<4 in /usr/local/lib/python3.10/dist-packages (from mlflow) (2.2.5)\n",
            "Requirement already satisfied: alembic!=1.10.0,<2 in /usr/local/lib/python3.10/dist-packages (from mlflow) (1.13.1)\n",
            "Requirement already satisfied: cachetools<6,>=5.0.0 in /usr/local/lib/python3.10/dist-packages (from mlflow) (5.3.3)\n",
            "Requirement already satisfied: click<9,>=7.0 in /usr/local/lib/python3.10/dist-packages (from mlflow) (8.1.7)\n",
            "Requirement already satisfied: cloudpickle<4 in /usr/local/lib/python3.10/dist-packages (from mlflow) (2.2.1)\n",
            "Requirement already satisfied: docker<8,>=4.0.0 in /usr/local/lib/python3.10/dist-packages (from mlflow) (7.1.0)\n",
            "Requirement already satisfied: entrypoints<1 in /usr/local/lib/python3.10/dist-packages (from mlflow) (0.4)\n",
            "Requirement already satisfied: gitpython<4,>=3.1.9 in /usr/local/lib/python3.10/dist-packages (from mlflow) (3.1.43)\n",
            "Requirement already satisfied: graphene<4 in /usr/local/lib/python3.10/dist-packages (from mlflow) (3.3)\n",
            "Requirement already satisfied: importlib-metadata!=4.7.0,<8,>=3.7.0 in /usr/local/lib/python3.10/dist-packages (from mlflow) (7.1.0)\n",
            "Requirement already satisfied: markdown<4,>=3.3 in /usr/local/lib/python3.10/dist-packages (from mlflow) (3.6)\n",
            "Requirement already satisfied: matplotlib<4 in /usr/local/lib/python3.10/dist-packages (from mlflow) (3.7.1)\n",
            "Requirement already satisfied: numpy<2 in /usr/local/lib/python3.10/dist-packages (from mlflow) (1.25.2)\n",
            "Requirement already satisfied: opentelemetry-api<3,>=1.9.0 in /usr/local/lib/python3.10/dist-packages (from mlflow) (1.25.0)\n",
            "Requirement already satisfied: opentelemetry-sdk<3,>=1.9.0 in /usr/local/lib/python3.10/dist-packages (from mlflow) (1.25.0)\n",
            "Requirement already satisfied: packaging<25 in /usr/local/lib/python3.10/dist-packages (from mlflow) (24.1)\n",
            "Requirement already satisfied: pandas<3 in /usr/local/lib/python3.10/dist-packages (from mlflow) (2.0.3)\n",
            "Requirement already satisfied: protobuf<5,>=3.12.0 in /usr/local/lib/python3.10/dist-packages (from mlflow) (3.20.3)\n",
            "Requirement already satisfied: pyarrow<16,>=4.0.0 in /usr/local/lib/python3.10/dist-packages (from mlflow) (14.0.2)\n",
            "Requirement already satisfied: pytz<2025 in /usr/local/lib/python3.10/dist-packages (from mlflow) (2023.4)\n",
            "Requirement already satisfied: pyyaml<7,>=5.1 in /usr/local/lib/python3.10/dist-packages (from mlflow) (6.0.1)\n",
            "Requirement already satisfied: querystring-parser<2 in /usr/local/lib/python3.10/dist-packages (from mlflow) (1.2.4)\n",
            "Requirement already satisfied: requests<3,>=2.17.3 in /usr/local/lib/python3.10/dist-packages (from mlflow) (2.31.0)\n",
            "Requirement already satisfied: scikit-learn<2 in /usr/local/lib/python3.10/dist-packages (from mlflow) (1.2.2)\n",
            "Requirement already satisfied: scipy<2 in /usr/local/lib/python3.10/dist-packages (from mlflow) (1.11.4)\n",
            "Requirement already satisfied: sqlalchemy<3,>=1.4.0 in /usr/local/lib/python3.10/dist-packages (from mlflow) (2.0.30)\n",
            "Requirement already satisfied: sqlparse<1,>=0.4.0 in /usr/local/lib/python3.10/dist-packages (from mlflow) (0.5.0)\n",
            "Requirement already satisfied: Jinja2<4,>=2.11 in /usr/local/lib/python3.10/dist-packages (from mlflow) (3.1.4)\n",
            "Requirement already satisfied: gunicorn<23 in /usr/local/lib/python3.10/dist-packages (from mlflow) (22.0.0)\n",
            "Requirement already satisfied: Mako in /usr/local/lib/python3.10/dist-packages (from alembic!=1.10.0,<2->mlflow) (1.3.5)\n",
            "Requirement already satisfied: typing-extensions>=4 in /usr/local/lib/python3.10/dist-packages (from alembic!=1.10.0,<2->mlflow) (4.12.2)\n",
            "Requirement already satisfied: urllib3>=1.26.0 in /usr/local/lib/python3.10/dist-packages (from docker<8,>=4.0.0->mlflow) (2.0.7)\n",
            "Requirement already satisfied: Werkzeug>=2.2.2 in /usr/local/lib/python3.10/dist-packages (from Flask<4->mlflow) (3.0.3)\n",
            "Requirement already satisfied: itsdangerous>=2.0 in /usr/local/lib/python3.10/dist-packages (from Flask<4->mlflow) (2.2.0)\n",
            "Requirement already satisfied: gitdb<5,>=4.0.1 in /usr/local/lib/python3.10/dist-packages (from gitpython<4,>=3.1.9->mlflow) (4.0.11)\n",
            "Requirement already satisfied: graphql-core<3.3,>=3.1 in /usr/local/lib/python3.10/dist-packages (from graphene<4->mlflow) (3.2.3)\n",
            "Requirement already satisfied: graphql-relay<3.3,>=3.1 in /usr/local/lib/python3.10/dist-packages (from graphene<4->mlflow) (3.2.0)\n",
            "Requirement already satisfied: aniso8601<10,>=8 in /usr/local/lib/python3.10/dist-packages (from graphene<4->mlflow) (9.0.1)\n",
            "Requirement already satisfied: zipp>=0.5 in /usr/local/lib/python3.10/dist-packages (from importlib-metadata!=4.7.0,<8,>=3.7.0->mlflow) (3.19.2)\n",
            "Requirement already satisfied: MarkupSafe>=2.0 in /usr/local/lib/python3.10/dist-packages (from Jinja2<4,>=2.11->mlflow) (2.1.5)\n",
            "Requirement already satisfied: contourpy>=1.0.1 in /usr/local/lib/python3.10/dist-packages (from matplotlib<4->mlflow) (1.2.1)\n",
            "Requirement already satisfied: cycler>=0.10 in /usr/local/lib/python3.10/dist-packages (from matplotlib<4->mlflow) (0.12.1)\n",
            "Requirement already satisfied: fonttools>=4.22.0 in /usr/local/lib/python3.10/dist-packages (from matplotlib<4->mlflow) (4.53.0)\n",
            "Requirement already satisfied: kiwisolver>=1.0.1 in /usr/local/lib/python3.10/dist-packages (from matplotlib<4->mlflow) (1.4.5)\n",
            "Requirement already satisfied: pillow>=6.2.0 in /usr/local/lib/python3.10/dist-packages (from matplotlib<4->mlflow) (9.4.0)\n",
            "Requirement already satisfied: pyparsing>=2.3.1 in /usr/local/lib/python3.10/dist-packages (from matplotlib<4->mlflow) (3.1.2)\n",
            "Requirement already satisfied: python-dateutil>=2.7 in /usr/local/lib/python3.10/dist-packages (from matplotlib<4->mlflow) (2.8.2)\n",
            "Requirement already satisfied: deprecated>=1.2.6 in /usr/local/lib/python3.10/dist-packages (from opentelemetry-api<3,>=1.9.0->mlflow) (1.2.14)\n",
            "Requirement already satisfied: opentelemetry-semantic-conventions==0.46b0 in /usr/local/lib/python3.10/dist-packages (from opentelemetry-sdk<3,>=1.9.0->mlflow) (0.46b0)\n",
            "Requirement already satisfied: tzdata>=2022.1 in /usr/local/lib/python3.10/dist-packages (from pandas<3->mlflow) (2024.1)\n",
            "Requirement already satisfied: six in /usr/local/lib/python3.10/dist-packages (from querystring-parser<2->mlflow) (1.16.0)\n",
            "Requirement already satisfied: charset-normalizer<4,>=2 in /usr/local/lib/python3.10/dist-packages (from requests<3,>=2.17.3->mlflow) (3.3.2)\n",
            "Requirement already satisfied: idna<4,>=2.5 in /usr/local/lib/python3.10/dist-packages (from requests<3,>=2.17.3->mlflow) (3.7)\n",
            "Requirement already satisfied: certifi>=2017.4.17 in /usr/local/lib/python3.10/dist-packages (from requests<3,>=2.17.3->mlflow) (2024.6.2)\n",
            "Requirement already satisfied: joblib>=1.1.1 in /usr/local/lib/python3.10/dist-packages (from scikit-learn<2->mlflow) (1.4.2)\n",
            "Requirement already satisfied: threadpoolctl>=2.0.0 in /usr/local/lib/python3.10/dist-packages (from scikit-learn<2->mlflow) (3.5.0)\n",
            "Requirement already satisfied: greenlet!=0.4.17 in /usr/local/lib/python3.10/dist-packages (from sqlalchemy<3,>=1.4.0->mlflow) (3.0.3)\n",
            "Requirement already satisfied: wrapt<2,>=1.10 in /usr/local/lib/python3.10/dist-packages (from deprecated>=1.2.6->opentelemetry-api<3,>=1.9.0->mlflow) (1.14.1)\n",
            "Requirement already satisfied: smmap<6,>=3.0.1 in /usr/local/lib/python3.10/dist-packages (from gitdb<5,>=4.0.1->gitpython<4,>=3.1.9->mlflow) (5.0.1)\n"
          ]
        }
      ],
      "source": [
        "!pip install pyspark\n",
        "!pip install delta-spark\n",
        "!pip install statsmodels\n",
        "!pip install mlflow"
      ]
    },
    {
      "cell_type": "code",
      "execution_count": null,
      "metadata": {
        "id": "VSlth008TJDF"
      },
      "outputs": [],
      "source": [
        "import mlflow\n",
        "import mlflow.spark\n",
        "from google.colab import drive\n",
        "from pyspark.sql import SparkSession\n",
        "from pyspark.mllib.regression import LabeledPoint, LinearRegressionWithSGD\n",
        "from pyspark.mllib.evaluation import RegressionMetrics\n",
        "from pyspark.mllib.feature import StandardScaler\n",
        "from pyspark.ml.evaluation import RegressionEvaluator\n",
        "from pyspark.sql.functions import col, avg, count, when, datediff, current_date, to_date, regexp_replace, month, dayofmonth, sum as _sum, coalesce, lit, isnan, unix_timestamp, lag, from_json, lead, rand, percentile_approx\n",
        "from pyspark.sql.types import StructType, StructField, DoubleType, IntegerType, LongType, StringType\n",
        "from pyspark.sql import functions as F\n",
        "from pyspark.sql.window import Window\n",
        "from pyspark.sql import Row\n",
        "from delta.tables import DeltaTable\n",
        "from delta import configure_spark_with_delta_pip\n",
        "from sklearn.metrics import mean_squared_error, mean_absolute_error, r2_score\n",
        "import os\n",
        "import json\n",
        "import time\n",
        "import glob\n",
        "import pandas as pd\n",
        "import numpy as np\n",
        "import tempfile\n",
        "import shutil"
      ]
    },
    {
      "cell_type": "code",
      "source": [
        "from google.colab import drive\n",
        "drive.mount('/content/drive')"
      ],
      "metadata": {
        "colab": {
          "base_uri": "https://localhost:8080/"
        },
        "id": "Y7K0Q66qdxrv",
        "outputId": "9894368f-6004-49e2-f877-59f13f2664a2"
      },
      "execution_count": null,
      "outputs": [
        {
          "output_type": "stream",
          "name": "stdout",
          "text": [
            "Drive already mounted at /content/drive; to attempt to forcibly remount, call drive.mount(\"/content/drive\", force_remount=True).\n"
          ]
        }
      ]
    },
    {
      "cell_type": "code",
      "execution_count": null,
      "metadata": {
        "colab": {
          "base_uri": "https://localhost:8080/"
        },
        "id": "cCAKDf199cFO",
        "outputId": "91dfb85d-2b9d-49e1-abc5-e698eec4cace"
      },
      "outputs": [
        {
          "output_type": "stream",
          "name": "stdout",
          "text": [
            "Delta Lake loaded: True\n"
          ]
        }
      ],
      "source": [
        "# Initialize a Spark session\n",
        "builder = SparkSession.builder \\\n",
        "    .appName(\"DataProcessingWithDeltaLake\") \\\n",
        "    .config(\"spark.jars.packages\", \"io.delta:delta-core_2.12:1.2.1\") \\\n",
        "    .config(\"spark.sql.extensions\", \"io.delta.sql.DeltaSparkSessionExtension\") \\\n",
        "    .config(\"spark.sql.catalog.spark_catalog\", \"org.apache.spark.sql.delta.catalog.DeltaCatalog\")\n",
        "\n",
        "spark = configure_spark_with_delta_pip(builder).getOrCreate()\n",
        "\n",
        "delta_extensions = spark.conf.get(\"spark.sql.extensions\", \"\")\n",
        "print(\"Delta Lake loaded:\", \"io.delta.sql.DeltaSparkSessionExtension\" in delta_extensions)"
      ]
    },
    {
      "cell_type": "markdown",
      "metadata": {
        "id": "g-XMN9uI7sRa"
      },
      "source": [
        "# Formatter"
      ]
    },
    {
      "cell_type": "markdown",
      "metadata": {
        "id": "OI8garVwi0Qh"
      },
      "source": [
        "## Process Airport Data"
      ]
    },
    {
      "cell_type": "markdown",
      "metadata": {
        "id": "VdU95cMdi5Rn"
      },
      "source": [
        "Data Ingestion"
      ]
    },
    {
      "cell_type": "code",
      "execution_count": null,
      "metadata": {
        "colab": {
          "base_uri": "https://localhost:8080/"
        },
        "id": "wzroU55WjDe_",
        "outputId": "3501296d-5761-4964-bf6f-892da4e518e2"
      },
      "outputs": [
        {
          "output_type": "stream",
          "name": "stdout",
          "text": [
            "+---------------+---------+--------------------+-----------+\n",
            "|Data_Referencia|Codi_Pais|            Nom_Pais|Nombre_Vols|\n",
            "+---------------+---------+--------------------+-----------+\n",
            "|     2023-01-01|        1|             Espanya|        193|\n",
            "|     2023-01-01|        2|              Itàlia|         63|\n",
            "|     2023-01-01|        3|          Regne Unit|         57|\n",
            "|     2023-01-01|        4|              França|         63|\n",
            "|     2023-01-01|        5|            Alemanya|         50|\n",
            "|     2023-01-01|        6|            Portugal|         26|\n",
            "|     2023-01-01|        7|       Països Baixos|         28|\n",
            "|     2023-01-01|        8|              Suïssa|         26|\n",
            "|     2023-01-01|        9|             Bèlgica|         10|\n",
            "|     2023-01-01|       10|          Marroc, el|         21|\n",
            "|     2023-01-01|       11|   Estats Units, els|          9|\n",
            "|     2023-01-01|       12|             Àustria|          5|\n",
            "|     2023-01-01|       13|             Irlanda|         12|\n",
            "|     2023-01-01|       14|             Turquia|         10|\n",
            "|     2023-01-01|       15|             Polònia|          8|\n",
            "|     2023-01-01|       16|           Dinamarca|         10|\n",
            "|     2023-01-01|       17|             Romania|          6|\n",
            "|     2023-01-01|       18|              Grècia|          4|\n",
            "|     2023-01-01|       19|              Suècia|         10|\n",
            "|     2023-01-01|       20|Emirats Àrabs Uni...|          6|\n",
            "+---------------+---------+--------------------+-----------+\n",
            "only showing top 20 rows\n",
            "\n"
          ]
        }
      ],
      "source": [
        "file_path = \"/content/drive/MyDrive/BDM/Data/Landing_Zone/2023_TransitAeri_FlightRadar_Ppal_Pais.csv\"\n",
        "airport_df = spark.read.options(inferSchema=True, header=True).csv(file_path)\n",
        "airport_df.show()"
      ]
    },
    {
      "cell_type": "markdown",
      "metadata": {
        "id": "M4sWCnqYi5cB"
      },
      "source": [
        "Data Cleaning"
      ]
    },
    {
      "cell_type": "code",
      "execution_count": null,
      "metadata": {
        "colab": {
          "base_uri": "https://localhost:8080/"
        },
        "id": "GVgsQJgAjEG0",
        "outputId": "42eaeb42-eeb0-440c-bfe4-fe08d619dff5"
      },
      "outputs": [
        {
          "output_type": "stream",
          "name": "stdout",
          "text": [
            "+---------------+---------+--------------------+-----------+\n",
            "|Data_Referencia|Codi_Pais|            Nom_Pais|Nombre_Vols|\n",
            "+---------------+---------+--------------------+-----------+\n",
            "|     2023-01-02|        6|            Portugal|         29|\n",
            "|     2023-01-30|        7|       Països Baixos|         20|\n",
            "|     2023-02-21|        3|          Regne Unit|         58|\n",
            "|     2023-02-22|       13|             Irlanda|          8|\n",
            "|     2023-03-03|       23|               Qatar|          4|\n",
            "|     2023-03-09|        2|              Itàlia|         75|\n",
            "|     2023-03-16|        2|              Itàlia|         74|\n",
            "|     2023-03-16|       23|               Qatar|          4|\n",
            "|     2023-03-17|        7|       Països Baixos|         28|\n",
            "|     2023-03-28|        5|            Alemanya|         65|\n",
            "|     2023-03-31|        6|            Portugal|         40|\n",
            "|     2023-04-02|       20|Emirats Àrabs Uni...|          6|\n",
            "|     2023-04-03|        9|             Bèlgica|         22|\n",
            "|     2023-04-18|       16|           Dinamarca|         10|\n",
            "|     2023-04-23|        9|             Bèlgica|         16|\n",
            "|     2023-04-30|       26|             Noruega|          8|\n",
            "|     2023-05-10|       22|             Hongria|          4|\n",
            "|     2023-05-14|        2|              Itàlia|         96|\n",
            "|     2023-06-19|        9|             Bèlgica|         19|\n",
            "|     2023-06-28|       22|             Hongria|          4|\n",
            "+---------------+---------+--------------------+-----------+\n",
            "only showing top 20 rows\n",
            "\n",
            "root\n",
            " |-- Data_Referencia: date (nullable = true)\n",
            " |-- Codi_Pais: integer (nullable = true)\n",
            " |-- Nom_Pais: string (nullable = true)\n",
            " |-- Nombre_Vols: integer (nullable = true)\n",
            "\n"
          ]
        }
      ],
      "source": [
        "# Drop duplicates\n",
        "airport_df_cleaned = airport_df.dropDuplicates()\n",
        "\n",
        "# Handle missing values\n",
        "airport_df_cleaned = airport_df_cleaned.dropna()\n",
        "\n",
        "airport_df_cleaned.show()\n",
        "airport_df_cleaned.printSchema()"
      ]
    },
    {
      "cell_type": "markdown",
      "metadata": {
        "id": "v8ZRsBdMi5lK"
      },
      "source": [
        "Data Transformation"
      ]
    },
    {
      "cell_type": "code",
      "execution_count": null,
      "metadata": {
        "colab": {
          "base_uri": "https://localhost:8080/"
        },
        "id": "fr7Mz7ZXio6i",
        "outputId": "c6d51903-eb80-4317-ad7e-8a08d804e9c2"
      },
      "outputs": [
        {
          "output_type": "stream",
          "name": "stdout",
          "text": [
            "+----------+----------------+--------------+---------------+--------------+-----------+--------------+\n",
            "|      Date|Germany_Tourists|Spain_Tourists|France_Tourists|Italy_Tourists|UK_Tourists|Total_Tourists|\n",
            "+----------+----------------+--------------+---------------+--------------+-----------+--------------+\n",
            "|2023-01-01|              50|           193|             63|            63|         57|           426|\n",
            "|2023-01-02|              56|           212|             67|            82|         73|           490|\n",
            "|2023-01-03|              54|           227|             57|            80|         59|           477|\n",
            "|2023-01-04|              57|           217|             54|            71|         62|           461|\n",
            "|2023-01-05|              53|           195|             55|            79|         55|           437|\n",
            "+----------+----------------+--------------+---------------+--------------+-----------+--------------+\n",
            "only showing top 5 rows\n",
            "\n"
          ]
        }
      ],
      "source": [
        "# Calculate total tourists per country and find top 5 countries\n",
        "country_tourists = airport_df_cleaned.groupBy(\"Nom_Pais\").agg(_sum(\"Nombre_Vols\").alias(\"total_tourists\"))\n",
        "top_countries = country_tourists.orderBy(col(\"total_tourists\").desc()).limit(5)\n",
        "top_country_list = [row['Nom_Pais'] for row in top_countries.collect()]\n",
        "\n",
        "# Filter and pivot the DataFrame for the top 5 countries\n",
        "pivot_df = airport_df_cleaned.filter(col(\"Nom_Pais\").isin(top_country_list)).groupBy(\"Data_Referencia\").pivot(\"Nom_Pais\").agg(_sum(\"Nombre_Vols\"))\n",
        "\n",
        "# Add a new column for total tourists and fill NaNs with zeros\n",
        "for country in top_country_list:\n",
        "    pivot_df = pivot_df.withColumn(country, coalesce(col(country), lit(0)))\n",
        "\n",
        "pivot_df = pivot_df.withColumn(\"total_tourists\", sum(col(country) for country in top_country_list))\n",
        "\n",
        "airport_df_final = pivot_df.orderBy(\"Data_Referencia\")\n",
        "\n",
        "column_renames = {\n",
        "    \"Data_Referencia\": \"Date\",\n",
        "    \"Alemanya\": \"Germany_Tourists\",\n",
        "    \"Espanya\": \"Spain_Tourists\",\n",
        "    \"França\": \"France_Tourists\",\n",
        "    \"Itàlia\": \"Italy_Tourists\",\n",
        "    \"Regne Unit\": \"UK_Tourists\",\n",
        "    \"total_tourists\": \"Total_Tourists\"\n",
        "}\n",
        "\n",
        "for old_col, new_col in column_renames.items():\n",
        "    airport_df_final = airport_df_final.withColumnRenamed(old_col, new_col)\n",
        "\n",
        "airport_df_final.show(5)"
      ]
    },
    {
      "cell_type": "markdown",
      "metadata": {
        "id": "8ZvvhofHjGsP"
      },
      "source": [
        "## Process Listing Data"
      ]
    },
    {
      "cell_type": "markdown",
      "metadata": {
        "id": "RDhJvSPfjGsQ"
      },
      "source": [
        "Data Ingestion"
      ]
    },
    {
      "cell_type": "code",
      "execution_count": null,
      "metadata": {
        "colab": {
          "base_uri": "https://localhost:8080/"
        },
        "id": "XR95nXHtjGsQ",
        "outputId": "65c6477c-a8a6-4aa3-ba87-b2a5c1f08662"
      },
      "outputs": [
        {
          "output_type": "stream",
          "name": "stdout",
          "text": [
            "+------+--------------------+-------+--------------+-------------------+--------------------+-----------------+-----------------+---------------+-----+--------------+-----------------+-----------+-----------------+------------------------------+----------------+---------------------+-----------+\n",
            "|    id|                name|host_id|     host_name|neighbourhood_group|       neighbourhood|         latitude|        longitude|      room_type|price|minimum_nights|number_of_reviews|last_review|reviews_per_month|calculated_host_listings_count|availability_365|number_of_reviews_ltm|    license|\n",
            "+------+--------------------+-------+--------------+-------------------+--------------------+-----------------+-----------------+---------------+-----+--------------+-----------------+-----------+-----------------+------------------------------+----------------+---------------------+-----------+\n",
            "| 17475|Rental unit in 08...|  65623|          Luca|           Eixample|la Dreta de l'Eix...|         41.39939|          2.17044|Entire home/apt|  140|             5|               26| 2023-12-04|             0.16|                             1|              32|                    9|       NULL|\n",
            "| 18674|Rental unit in Ba...|  71615| Mireia  Maria|           Eixample|  la Sagrada Família|         41.40556|          2.17262|Entire home/apt|  121|             1|               40| 2023-11-07|             0.31|                            30|              39|                    7|HUTB-002062|\n",
            "|198958|Rental unit in Ba...| 971768|         Laura|         Sant Martí|Diagonal Mar i el...|         41.40805|          2.21487|Entire home/apt|  304|             2|              105| 2023-10-16|             0.74|                             9|             137|                   26|HUTB-000926|\n",
            "| 23197|Rental unit in Sa...|  90417|Etain (Marnie)|         Sant Martí|el Besòs i el Mar...|41.41243172529066|2.219750335269476|Entire home/apt|  200|             3|               75| 2023-11-25|             0.48|                             2|             300|                   11| HUTB005057|\n",
            "| 32711|Rental unit in Ba...| 135703|          Nick|             Gràcia|el Camp d'en Gras...|         41.40566|          2.17015|Entire home/apt|   79|             1|               99| 2023-10-18|             0.66|                             3|             297|                   16|HUTB-001722|\n",
            "+------+--------------------+-------+--------------+-------------------+--------------------+-----------------+-----------------+---------------+-----+--------------+-----------------+-----------+-----------------+------------------------------+----------------+---------------------+-----------+\n",
            "only showing top 5 rows\n",
            "\n"
          ]
        }
      ],
      "source": [
        "file_path = \"/content/drive/MyDrive/BDM/Data/Landing_Zone/listings.csv\"\n",
        "listings_df = spark.read.csv(file_path, header=True, inferSchema=True)\n",
        "listings_df.show(5)"
      ]
    },
    {
      "cell_type": "markdown",
      "metadata": {
        "id": "uRfbRiLwjGsQ"
      },
      "source": [
        "Data Cleaning"
      ]
    },
    {
      "cell_type": "code",
      "execution_count": null,
      "metadata": {
        "id": "vvzY9dz-jGsQ"
      },
      "outputs": [],
      "source": [
        "listings_df_cleaned = listings_df.dropDuplicates().dropna()"
      ]
    },
    {
      "cell_type": "markdown",
      "metadata": {
        "id": "GdcpmTP2jGsQ"
      },
      "source": [
        "Data Transformation"
      ]
    },
    {
      "cell_type": "code",
      "execution_count": null,
      "metadata": {
        "colab": {
          "base_uri": "https://localhost:8080/"
        },
        "id": "gK4UxuYojGsQ",
        "outputId": "80fe49b8-6826-4139-871d-71a35d406ffb"
      },
      "outputs": [
        {
          "output_type": "stream",
          "name": "stdout",
          "text": [
            "+------+--------------------+-------+----------+-------------------+--------------------+--------+---------+---------------+-----------------+-----------+-----------------+------------------------------+----------------+---------------------+-------------+----------------------+-----------------+\n",
            "|    id|                name|host_id| host_name|neighbourhood_group|       neighbourhood|latitude|longitude|      room_type|number_of_reviews|last_review|reviews_per_month|calculated_host_listings_count|availability_365|number_of_reviews_ltm|      license|days_since_last_review|room_type_encoded|\n",
            "+------+--------------------+-------+----------+-------------------+--------------------+--------+---------+---------------+-----------------+-----------+-----------------+------------------------------+----------------+---------------------+-------------+----------------------+-----------------+\n",
            "|206167|Rental unit in Ba...|1014050|   Minerva|     Sants-Montjuïc|        el Poble Sec| 41.3724|   2.1648|Entire home/apt|              142| 2023-10-12|             0.96|                             1|               0|                   22|  HUTB-009804|                   251|                1|\n",
            "|576046|Rental unit in Ba...|2833463|    Josefa|           Eixample|  la Sagrada Família|41.40315|  2.18462|   Private room|               52| 2023-07-31|             0.58|                             2|             314|                    1|       Exempt|                   324|                2|\n",
            "|745275|Rental unit in Ba...|3678711|         J|             Gràcia|Vallcarca i els P...|41.41073|  2.14704|Entire home/apt|               46| 2023-11-19|             0.36|                            10|             168|                    5|HUTB - 004040|                   213|                1|\n",
            "|811918|Rental unit in Ho...|4269183|      Alba|          Les Corts|la Maternitat i S...| 41.3779|  2.11991|Entire home/apt|              456| 2023-11-29|             3.42|                             5|              93|                   37|  HUTB-007730|                   203|                1|\n",
            "|715036|Rental unit in Ba...|3682696|Montserrat|     Sants-Montjuïc|        el Poble Sec|41.37455|  2.16669|Entire home/apt|              329| 2023-11-29|             2.49|                             1|             177|                   48|  HUTB-007660|                   203|                1|\n",
            "+------+--------------------+-------+----------+-------------------+--------------------+--------+---------+---------------+-----------------+-----------+-----------------+------------------------------+----------------+---------------------+-------------+----------------------+-----------------+\n",
            "only showing top 5 rows\n",
            "\n"
          ]
        }
      ],
      "source": [
        "listings_df_cleaned = listings_df_cleaned.fillna({'license': 'Unknown', 'reviews_per_month': 0})\n",
        "\n",
        "# Convert price to integer\n",
        "listings_df_cleaned = listings_df_cleaned.withColumn(\"price\", col(\"price\").cast(\"integer\"))\n",
        "\n",
        "# Calculate average price per neighbourhood\n",
        "avg_price_per_neighbourhood = listings_df_cleaned.groupBy(\"neighbourhood\").agg(avg(\"price\").alias(\"avg_price\"))\n",
        "\n",
        "# Calculate number of listings per neighbourhood\n",
        "count_listings_per_neighbourhood = listings_df_cleaned.groupBy(\"neighbourhood\").agg(count(\"id\").alias(\"listings_count\"))\n",
        "\n",
        "# Handle date columns\n",
        "listings_df_cleaned = listings_df_cleaned.withColumn(\"last_review\", col(\"last_review\").cast(\"date\"))\n",
        "listings_df_cleaned = listings_df_cleaned.withColumn(\"days_since_last_review\", datediff(current_date(), col(\"last_review\")))\n",
        "\n",
        "listings_df_final = listings_df_cleaned.withColumn(\n",
        "    \"room_type_encoded\",\n",
        "    when(col(\"room_type\") == \"Entire home/apt\", 1)\n",
        "    .when(col(\"room_type\") == \"Private room\", 2)\n",
        "    .when(col(\"room_type\") == \"Shared room\", 3)\n",
        "    .when(col(\"room_type\") == \"Hotel room\", 4)\n",
        "    .otherwise(0)\n",
        ")\n",
        "\n",
        "listings_df_final = listings_df_final.drop(\"price\")\n",
        "listings_df_final = listings_df_final.drop(\"minimum_nights\")\n",
        "listings_df_final = listings_df_final.drop(\"maximum_nights\")\n",
        "\n",
        "listings_df_final.show(5)"
      ]
    },
    {
      "cell_type": "markdown",
      "metadata": {
        "id": "OrM_dR6xjMme"
      },
      "source": [
        "## Process Calendar Data"
      ]
    },
    {
      "cell_type": "markdown",
      "metadata": {
        "id": "fEUjOco2jMme"
      },
      "source": [
        "Data Ingestion"
      ]
    },
    {
      "cell_type": "code",
      "execution_count": null,
      "metadata": {
        "colab": {
          "base_uri": "https://localhost:8080/"
        },
        "id": "0U8E0DT0jMme",
        "outputId": "dc890cee-9a62-4d5f-fa66-3658d04fdeb6"
      },
      "outputs": [
        {
          "output_type": "stream",
          "name": "stdout",
          "text": [
            "+----------+----------+---------+-------+--------------+--------------+--------------+\n",
            "|listing_id|      date|available|  price|adjusted_price|minimum_nights|maximum_nights|\n",
            "+----------+----------+---------+-------+--------------+--------------+--------------+\n",
            "|    198958|2023-12-14|        t|$190.00|          NULL|             2|           365|\n",
            "|    198958|2023-12-15|        t|$190.00|          NULL|             2|           365|\n",
            "|    198958|2023-12-16|        t|$190.00|          NULL|             2|           365|\n",
            "|    198958|2023-12-17|        t|$190.00|          NULL|             2|           365|\n",
            "|    198958|2023-12-18|        t|$190.00|          NULL|             2|           365|\n",
            "+----------+----------+---------+-------+--------------+--------------+--------------+\n",
            "only showing top 5 rows\n",
            "\n"
          ]
        }
      ],
      "source": [
        "file_path = \"/content/drive/MyDrive/BDM/Data/Landing_Zone/calendar.csv\"\n",
        "calendar_df = spark.read.csv(file_path, header=True, inferSchema=True)\n",
        "calendar_df.show(5)"
      ]
    },
    {
      "cell_type": "markdown",
      "metadata": {
        "id": "2yqyhiWTjMmf"
      },
      "source": [
        "Data Cleaning"
      ]
    },
    {
      "cell_type": "code",
      "execution_count": null,
      "metadata": {
        "id": "7ymrFWSOjMmf"
      },
      "outputs": [],
      "source": [
        "calendar_df_cleaned = calendar_df.dropDuplicates()\n",
        "calendar_df_cleaned.cache()\n",
        "\n",
        "# Remove currency symbols and commas from the price column, then convert to float\n",
        "calendar_df_cleaned = calendar_df_cleaned.withColumn(\"price\", regexp_replace(col(\"price\"), \"[$,]\", \"\").cast(\"float\"))\n",
        "calendar_df_cleaned = calendar_df_cleaned.dropna(subset=[\"price\"])\n",
        "\n",
        "avg_price = calendar_df_cleaned.agg(avg(\"price\")).first()[0]\n",
        "\n",
        "# Handle missing values by filling missing prices with the average price\n",
        "calendar_df_cleaned = calendar_df_cleaned.na.fill({'price': avg_price})"
      ]
    },
    {
      "cell_type": "markdown",
      "metadata": {
        "id": "2jRDBsFdjMmf"
      },
      "source": [
        "Data Transformation"
      ]
    },
    {
      "cell_type": "code",
      "execution_count": null,
      "metadata": {
        "colab": {
          "base_uri": "https://localhost:8080/"
        },
        "id": "stBr9Q_WjMmf",
        "outputId": "2d2558ab-99cf-4ad8-d9e2-e8c49218f423"
      },
      "outputs": [
        {
          "output_type": "stream",
          "name": "stdout",
          "text": [
            "+----------+----------+---------+------+--------------+--------------+--------------+-----------------------+\n",
            "|listing_id|      date|available| price|adjusted_price|minimum_nights|maximum_nights|availability_percentage|\n",
            "+----------+----------+---------+------+--------------+--------------+--------------+-----------------------+\n",
            "|     36763|2024-05-12|        t|  30.0|          NULL|            31|            65|     57.534246575342465|\n",
            "|     36763|2024-02-07|        f|  30.0|          NULL|            31|            65|     57.534246575342465|\n",
            "|     40983|2024-11-20|        t| 205.0|          NULL|             2|           364|      78.63013698630137|\n",
            "|     46153|2024-03-03|        f|  70.0|          NULL|            31|          1125|      66.57534246575342|\n",
            "|  20472746|2024-11-28|        t|1292.0|     $1,292.00|             4|             7|      88.76712328767124|\n",
            "+----------+----------+---------+------+--------------+--------------+--------------+-----------------------+\n",
            "only showing top 5 rows\n",
            "\n"
          ]
        }
      ],
      "source": [
        "calendar_df_cleaned = calendar_df_cleaned.withColumn(\"date\", to_date(col(\"date\"), 'yyyy-MM-dd'))\n",
        "\n",
        "# Calculate availability percentage per listing_id\n",
        "availability_df = calendar_df_cleaned.groupBy(\"listing_id\").agg(\n",
        "    (count(when(col(\"available\") == \"t\", 1)) / count(\"available\") * 100).alias(\"availability_percentage\")\n",
        ")\n",
        "\n",
        "# Join availability_df back to the main dataframe\n",
        "calendar_df_final = calendar_df_cleaned.join(availability_df, on=\"listing_id\", how=\"left\")\n",
        "\n",
        "# Show the transformed DataFrame\n",
        "calendar_df_final.show(5)"
      ]
    },
    {
      "cell_type": "markdown",
      "metadata": {
        "id": "ljN-FFzCtgSf"
      },
      "source": [
        "## Data Integration"
      ]
    },
    {
      "cell_type": "code",
      "execution_count": null,
      "metadata": {
        "colab": {
          "base_uri": "https://localhost:8080/"
        },
        "id": "i85umAL9tiap",
        "outputId": "6b7d6a52-c2b1-4193-e622-7ed4d58a1acb"
      },
      "outputs": [
        {
          "output_type": "stream",
          "name": "stdout",
          "text": [
            "+-----+--------------------+-------+---------+-------------------+--------------------+--------+---------+---------------+-----------------+-----------+-----------------+------------------------------+----------------+---------------------+-----------+----------------------+-----------------+----------+---------+-----+--------------+--------------+--------------+-----------------------+\n",
            "|   id|                name|host_id|host_name|neighbourhood_group|       neighbourhood|latitude|longitude|      room_type|number_of_reviews|last_review|reviews_per_month|calculated_host_listings_count|availability_365|number_of_reviews_ltm|    license|days_since_last_review|room_type_encoded|      date|available|price|adjusted_price|minimum_nights|maximum_nights|availability_percentage|\n",
            "+-----+--------------------+-------+---------+-------------------+--------------------+--------+---------+---------------+-----------------+-----------+-----------------+------------------------------+----------------+---------------------+-----------+----------------------+-----------------+----------+---------+-----+--------------+--------------+--------------+-----------------------+\n",
            "|40983|Condo in Barcelon...| 177617|  Joaquin|           Eixample|la Dreta de l'Eix...|41.39631|  2.16832|Entire home/apt|              290| 2023-11-16|             1.91|                             6|             287|                   39|HUTB-001282|                   216|                1|2024-10-29|        t|205.0|          NULL|             2|           364|      78.63013698630137|\n",
            "|40983|Condo in Barcelon...| 177617|  Joaquin|           Eixample|la Dreta de l'Eix...|41.39631|  2.16832|Entire home/apt|              290| 2023-11-16|             1.91|                             6|             287|                   39|HUTB-001282|                   216|                1|2024-09-11|        t|205.0|          NULL|             2|           364|      78.63013698630137|\n",
            "|40983|Condo in Barcelon...| 177617|  Joaquin|           Eixample|la Dreta de l'Eix...|41.39631|  2.16832|Entire home/apt|              290| 2023-11-16|             1.91|                             6|             287|                   39|HUTB-001282|                   216|                1|2024-07-24|        t|205.0|          NULL|             2|           364|      78.63013698630137|\n",
            "|40983|Condo in Barcelon...| 177617|  Joaquin|           Eixample|la Dreta de l'Eix...|41.39631|  2.16832|Entire home/apt|              290| 2023-11-16|             1.91|                             6|             287|                   39|HUTB-001282|                   216|                1|2024-03-21|        t|205.0|          NULL|             2|           364|      78.63013698630137|\n",
            "|40983|Condo in Barcelon...| 177617|  Joaquin|           Eixample|la Dreta de l'Eix...|41.39631|  2.16832|Entire home/apt|              290| 2023-11-16|             1.91|                             6|             287|                   39|HUTB-001282|                   216|                1|2024-11-01|        t|205.0|          NULL|             2|           364|      78.63013698630137|\n",
            "+-----+--------------------+-------+---------+-------------------+--------------------+--------+---------+---------------+-----------------+-----------+-----------------+------------------------------+----------------+---------------------+-----------+----------------------+-----------------+----------+---------+-----+--------------+--------------+--------------+-----------------------+\n",
            "only showing top 5 rows\n",
            "\n"
          ]
        }
      ],
      "source": [
        "# Merge Listings and Calendar\n",
        "merged_df = listings_df_final.join(calendar_df_final, listings_df_final.id == calendar_df_final.listing_id, \"inner\")\n",
        "merged_df = merged_df.drop(calendar_df_final.listing_id)\n",
        "merged_df.show(5)"
      ]
    },
    {
      "cell_type": "code",
      "execution_count": null,
      "metadata": {
        "colab": {
          "base_uri": "https://localhost:8080/"
        },
        "id": "iInsXp-evYnk",
        "outputId": "dde64dbd-ed68-473b-8d06-3c108d96d13b"
      },
      "outputs": [
        {
          "output_type": "stream",
          "name": "stdout",
          "text": [
            "+-----+--------------------+-------+---------+-------------------+--------------------+--------+---------+---------------+-----------------+-----------+-----------------+------------------------------+----------------+---------------------+-----------+----------------------+-----------------+----------+---------+-----+--------------+--------------+-----------------------+----------------+--------------+---------------+--------------+-----------+--------------+\n",
            "|   id|                name|host_id|host_name|neighbourhood_group|       neighbourhood|latitude|longitude|      room_type|number_of_reviews|last_review|reviews_per_month|calculated_host_listings_count|availability_365|number_of_reviews_ltm|    license|days_since_last_review|room_type_encoded|      date|available|price|minimum_nights|maximum_nights|availability_percentage|Germany_Tourists|Spain_Tourists|France_Tourists|Italy_Tourists|UK_Tourists|Total_Tourists|\n",
            "+-----+--------------------+-------+---------+-------------------+--------------------+--------+---------+---------------+-----------------+-----------+-----------------+------------------------------+----------------+---------------------+-----------+----------------------+-----------------+----------+---------+-----+--------------+--------------+-----------------------+----------------+--------------+---------------+--------------+-----------+--------------+\n",
            "|40983|Condo in Barcelon...| 177617|  Joaquin|           Eixample|la Dreta de l'Eix...|41.39631|  2.16832|Entire home/apt|              290| 2023-11-16|             1.91|                             6|             287|                   39|HUTB-001282|                   216|                1|2024-10-29|        t|205.0|             2|           364|      78.63013698630137|              68|           238|             87|            93|         94|           580|\n",
            "|40983|Condo in Barcelon...| 177617|  Joaquin|           Eixample|la Dreta de l'Eix...|41.39631|  2.16832|Entire home/apt|              290| 2023-11-16|             1.91|                             6|             287|                   39|HUTB-001282|                   216|                1|2024-09-11|        t|205.0|             2|           364|      78.63013698630137|              73|           275|             80|           105|         89|           622|\n",
            "|40983|Condo in Barcelon...| 177617|  Joaquin|           Eixample|la Dreta de l'Eix...|41.39631|  2.16832|Entire home/apt|              290| 2023-11-16|             1.91|                             6|             287|                   39|HUTB-001282|                   216|                1|2024-07-24|        t|205.0|             2|           364|      78.63013698630137|              78|           283|             78|           102|         83|           624|\n",
            "|40983|Condo in Barcelon...| 177617|  Joaquin|           Eixample|la Dreta de l'Eix...|41.39631|  2.16832|Entire home/apt|              290| 2023-11-16|             1.91|                             6|             287|                   39|HUTB-001282|                   216|                1|2024-03-21|        t|205.0|             2|           364|      78.63013698630137|              61|           247|             57|            73|         65|           503|\n",
            "|40983|Condo in Barcelon...| 177617|  Joaquin|           Eixample|la Dreta de l'Eix...|41.39631|  2.16832|Entire home/apt|              290| 2023-11-16|             1.91|                             6|             287|                   39|HUTB-001282|                   216|                1|2024-11-01|        t|205.0|             2|           364|      78.63013698630137|              66|           236|             66|            98|         66|           532|\n",
            "+-----+--------------------+-------+---------+-------------------+--------------------+--------+---------+---------------+-----------------+-----------+-----------------+------------------------------+----------------+---------------------+-----------+----------------------+-----------------+----------+---------+-----+--------------+--------------+-----------------------+----------------+--------------+---------------+--------------+-----------+--------------+\n",
            "only showing top 5 rows\n",
            "\n"
          ]
        }
      ],
      "source": [
        "# Merge with Airport Data\n",
        "merged_df = merged_df.withColumn(\"month_day\", col(\"date\").substr(6, 5))\n",
        "airport_df_final = airport_df_final.withColumn(\"month_day\", col(\"Date\").substr(6, 5))\n",
        "final_merged_df = merged_df.join(airport_df_final.drop(\"Date\"), on=\"month_day\", how=\"inner\")\n",
        "final_merged_df = final_merged_df.drop(\"month_day\")\n",
        "final_merged_df = final_merged_df.drop(\"adjusted_price\")\n",
        "\n",
        "columns_to_drop = [col for col in final_merged_df.columns if col.endswith(\"price\") and col != \"price\"]\n",
        "final_merged_df = final_merged_df.drop(*columns_to_drop)\n",
        "\n",
        "final_merged_df.show(5)"
      ]
    },
    {
      "cell_type": "code",
      "execution_count": null,
      "metadata": {
        "colab": {
          "base_uri": "https://localhost:8080/"
        },
        "id": "kZQgGhQd4j87",
        "outputId": "5b89c203-41d4-402b-fc91-89b3c732b1bc"
      },
      "outputs": [
        {
          "output_type": "execute_result",
          "data": {
            "text/plain": [
              "['id',\n",
              " 'name',\n",
              " 'host_id',\n",
              " 'host_name',\n",
              " 'neighbourhood_group',\n",
              " 'neighbourhood',\n",
              " 'latitude',\n",
              " 'longitude',\n",
              " 'room_type',\n",
              " 'number_of_reviews',\n",
              " 'last_review',\n",
              " 'reviews_per_month',\n",
              " 'calculated_host_listings_count',\n",
              " 'availability_365',\n",
              " 'number_of_reviews_ltm',\n",
              " 'license',\n",
              " 'days_since_last_review',\n",
              " 'room_type_encoded',\n",
              " 'date',\n",
              " 'available',\n",
              " 'price',\n",
              " 'minimum_nights',\n",
              " 'maximum_nights',\n",
              " 'availability_percentage',\n",
              " 'Germany_Tourists',\n",
              " 'Spain_Tourists',\n",
              " 'France_Tourists',\n",
              " 'Italy_Tourists',\n",
              " 'UK_Tourists',\n",
              " 'Total_Tourists']"
            ]
          },
          "metadata": {},
          "execution_count": 16
        }
      ],
      "source": [
        "final_merged_df.columns"
      ]
    },
    {
      "cell_type": "markdown",
      "metadata": {
        "id": "A0iNUxcX3RQG"
      },
      "source": [
        "## Data Filtering"
      ]
    },
    {
      "cell_type": "code",
      "execution_count": null,
      "metadata": {
        "colab": {
          "base_uri": "https://localhost:8080/"
        },
        "id": "uurA0ISE4Yzb",
        "outputId": "a091f763-3925-47db-e1cc-64da81b9933d"
      },
      "outputs": [
        {
          "output_type": "stream",
          "name": "stdout",
          "text": [
            "+-----+--------------------+-------+---------+-------------------+--------------------+--------+---------+---------------+-----------------+-----------+-----------------+------------------------------+----------------+---------------------+-----------+----------------------+-----------------+----------+---------+-----+--------------+--------------+-----------------------+----------------+--------------+---------------+--------------+-----------+--------------+\n",
            "|   id|                name|host_id|host_name|neighbourhood_group|       neighbourhood|latitude|longitude|      room_type|number_of_reviews|last_review|reviews_per_month|calculated_host_listings_count|availability_365|number_of_reviews_ltm|    license|days_since_last_review|room_type_encoded|      date|available|price|minimum_nights|maximum_nights|availability_percentage|Germany_Tourists|Spain_Tourists|France_Tourists|Italy_Tourists|UK_Tourists|Total_Tourists|\n",
            "+-----+--------------------+-------+---------+-------------------+--------------------+--------+---------+---------------+-----------------+-----------+-----------------+------------------------------+----------------+---------------------+-----------+----------------------+-----------------+----------+---------+-----+--------------+--------------+-----------------------+----------------+--------------+---------------+--------------+-----------+--------------+\n",
            "|40983|Condo in Barcelon...| 177617|  Joaquin|           Eixample|la Dreta de l'Eix...|41.39631|  2.16832|Entire home/apt|              290| 2023-11-16|             1.91|                             6|             287|                   39|HUTB-001282|                   216|                1|2024-03-21|        t|205.0|             2|           364|      78.63013698630137|              61|           247|             57|            73|         65|           503|\n",
            "|40983|Condo in Barcelon...| 177617|  Joaquin|           Eixample|la Dreta de l'Eix...|41.39631|  2.16832|Entire home/apt|              290| 2023-11-16|             1.91|                             6|             287|                   39|HUTB-001282|                   216|                1|2024-05-27|        t|205.0|             2|           364|      78.63013698630137|              66|           227|             60|            92|         85|           530|\n",
            "|40983|Condo in Barcelon...| 177617|  Joaquin|           Eixample|la Dreta de l'Eix...|41.39631|  2.16832|Entire home/apt|              290| 2023-11-16|             1.91|                             6|             287|                   39|HUTB-001282|                   216|                1|2024-03-29|        t|205.0|             2|           364|      78.63013698630137|              69|           272|             72|            89|         71|           573|\n",
            "|40983|Condo in Barcelon...| 177617|  Joaquin|           Eixample|la Dreta de l'Eix...|41.39631|  2.16832|Entire home/apt|              290| 2023-11-16|             1.91|                             6|             287|                   39|HUTB-001282|                   216|                1|2024-05-02|        t|205.0|             2|           364|      78.63013698630137|              67|           259|             73|            99|         79|           577|\n",
            "|40983|Condo in Barcelon...| 177617|  Joaquin|           Eixample|la Dreta de l'Eix...|41.39631|  2.16832|Entire home/apt|              290| 2023-11-16|             1.91|                             6|             287|                   39|HUTB-001282|                   216|                1|2024-01-14|        f|205.0|             2|           364|      78.63013698630137|              43|           214|             39|            66|         61|           423|\n",
            "+-----+--------------------+-------+---------+-------------------+--------------------+--------+---------+---------------+-----------------+-----------+-----------------+------------------------------+----------------+---------------------+-----------+----------------------+-----------------+----------+---------+-----+--------------+--------------+-----------------------+----------------+--------------+---------------+--------------+-----------+--------------+\n",
            "only showing top 5 rows\n",
            "\n"
          ]
        }
      ],
      "source": [
        "filtered_df = final_merged_df.filter(col(\"price\") >= 0)\n",
        "filtered_df = filtered_df.filter((col(\"date\") >= \"2020-01-01\") & (col(\"date\") <= \"2024-06-15\"))\n",
        "filtered_df = filtered_df.dropna(subset=[\"price\", \"availability_percentage\"])\n",
        "filtered_df.show(5)"
      ]
    },
    {
      "cell_type": "code",
      "execution_count": null,
      "metadata": {
        "colab": {
          "base_uri": "https://localhost:8080/"
        },
        "id": "WnhCPcCR-ugJ",
        "outputId": "49a08b97-0cfb-49c0-bf3d-36cc4564d5ef"
      },
      "outputs": [
        {
          "output_type": "stream",
          "name": "stdout",
          "text": [
            "Number of rows after filtering: 1852749\n",
            "Number of columns: 30\n"
          ]
        }
      ],
      "source": [
        "row_count = filtered_df.count()\n",
        "column_count = len(filtered_df.columns)\n",
        "\n",
        "print(f\"Number of rows after filtering: {row_count}\")\n",
        "print(f\"Number of columns: {column_count}\")"
      ]
    },
    {
      "cell_type": "markdown",
      "metadata": {
        "id": "xoK6r6663Vmj"
      },
      "source": [
        "## Data Validation"
      ]
    },
    {
      "cell_type": "code",
      "execution_count": null,
      "metadata": {
        "colab": {
          "base_uri": "https://localhost:8080/"
        },
        "id": "-KDVhU5D_3M3",
        "outputId": "a7477153-db9f-43c3-871b-b4f68fffccef"
      },
      "outputs": [
        {
          "output_type": "stream",
          "name": "stdout",
          "text": [
            "Number of duplicate rows: 0\n",
            "++\n",
            "||\n",
            "++\n",
            "||\n",
            "||\n",
            "||\n",
            "||\n",
            "||\n",
            "||\n",
            "||\n",
            "||\n",
            "||\n",
            "||\n",
            "||\n",
            "||\n",
            "||\n",
            "||\n",
            "||\n",
            "||\n",
            "||\n",
            "||\n",
            "||\n",
            "||\n",
            "++\n",
            "only showing top 20 rows\n",
            "\n",
            "+---+----+-------+---------+-------------------+-------------+--------+---------+---------+-----------------+-----------+-----------------+------------------------------+----------------+---------------------+-------+----------------------+-----------------+----+---------+-----+--------------+--------------+-----------------------+----------------+--------------+---------------+--------------+-----------+--------------+\n",
            "| id|name|host_id|host_name|neighbourhood_group|neighbourhood|latitude|longitude|room_type|number_of_reviews|last_review|reviews_per_month|calculated_host_listings_count|availability_365|number_of_reviews_ltm|license|days_since_last_review|room_type_encoded|date|available|price|minimum_nights|maximum_nights|availability_percentage|Germany_Tourists|Spain_Tourists|France_Tourists|Italy_Tourists|UK_Tourists|Total_Tourists|\n",
            "+---+----+-------+---------+-------------------+-------------+--------+---------+---------+-----------------+-----------+-----------------+------------------------------+----------------+---------------------+-------+----------------------+-----------------+----+---------+-----+--------------+--------------+-----------------------+----------------+--------------+---------------+--------------+-----------+--------------+\n",
            "|  0|   0|      0|        0|                  0|            0|       0|        0|        0|                0|          0|                0|                             0|               0|                    0|      0|                     0|                0|   0|        0|    0|             0|             0|                      0|               0|             0|              0|             0|          0|             0|\n",
            "+---+----+-------+---------+-------------------+-------------+--------+---------+---------+-----------------+-----------+-----------------+------------------------------+----------------+---------------------+-------+----------------------+-----------------+----+---------+-----+--------------+--------------+-----------------------+----------------+--------------+---------------+--------------+-----------+--------------+\n",
            "\n",
            "root\n",
            " |-- id: long (nullable = true)\n",
            " |-- name: string (nullable = true)\n",
            " |-- host_id: integer (nullable = true)\n",
            " |-- host_name: string (nullable = true)\n",
            " |-- neighbourhood_group: string (nullable = true)\n",
            " |-- neighbourhood: string (nullable = true)\n",
            " |-- latitude: double (nullable = true)\n",
            " |-- longitude: double (nullable = true)\n",
            " |-- room_type: string (nullable = true)\n",
            " |-- number_of_reviews: integer (nullable = true)\n",
            " |-- last_review: date (nullable = true)\n",
            " |-- reviews_per_month: double (nullable = false)\n",
            " |-- calculated_host_listings_count: integer (nullable = true)\n",
            " |-- availability_365: integer (nullable = true)\n",
            " |-- number_of_reviews_ltm: integer (nullable = true)\n",
            " |-- license: string (nullable = false)\n",
            " |-- days_since_last_review: integer (nullable = true)\n",
            " |-- room_type_encoded: integer (nullable = false)\n",
            " |-- date: date (nullable = true)\n",
            " |-- available: string (nullable = true)\n",
            " |-- price: float (nullable = false)\n",
            " |-- minimum_nights: integer (nullable = true)\n",
            " |-- maximum_nights: integer (nullable = true)\n",
            " |-- availability_percentage: double (nullable = true)\n",
            " |-- Germany_Tourists: long (nullable = false)\n",
            " |-- Spain_Tourists: long (nullable = false)\n",
            " |-- France_Tourists: long (nullable = false)\n",
            " |-- Italy_Tourists: long (nullable = false)\n",
            " |-- UK_Tourists: long (nullable = false)\n",
            " |-- Total_Tourists: long (nullable = false)\n",
            "\n",
            "Number of invalid price values: 0\n",
            "Number of invalid availability_percentage values: 0\n",
            "Number of unique ids: 10058, Total ids: 1852749\n",
            "Number of invalid latitude values: 0\n",
            "Number of invalid longitude values: 0\n",
            "+-------+------------------+------------------+------------------+------------------+------------------+-----------------------+\n",
            "|summary|             price|    minimum_nights| number_of_reviews| reviews_per_month|  availability_365|availability_percentage|\n",
            "+-------+------------------+------------------+------------------+------------------+------------------+-----------------------+\n",
            "|  count|           1852749|           1852749|           1852749|           1852749|           1852749|                1852749|\n",
            "|   mean|282.94710130730067| 8.638110720880162| 72.18894194518523|1.8391745401017536| 186.6933275905155|      57.61262582176956|\n",
            "| stddev| 745.0160948162579|21.303773488300134|108.79597821542934|  2.05048114270532|132.35903917429405|      33.13317147688888|\n",
            "|    min|              10.0|                 1|                 1|              0.01|                 0|                    0.0|\n",
            "|    max|           15000.0|              1124|              1941|              67.3|               365|                  100.0|\n",
            "+-------+------------------+------------------+------------------+------------------+------------------+-----------------------+\n",
            "\n",
            "+---------------+-------+\n",
            "|      room_type|  count|\n",
            "+---------------+-------+\n",
            "|    Shared room|  19705|\n",
            "|     Hotel room|  19876|\n",
            "|Entire home/apt|1256383|\n",
            "|   Private room| 556785|\n",
            "+---------------+-------+\n",
            "\n",
            "+-------------------+------+\n",
            "|neighbourhood_group| count|\n",
            "+-------------------+------+\n",
            "|             Gràcia|160921|\n",
            "|         Sant Martí|169802|\n",
            "|     Horta-Guinardó| 46730|\n",
            "|          Les Corts| 36444|\n",
            "|     Sants-Montjuïc|200388|\n",
            "|         Nou Barris| 14980|\n",
            "|Sarrià-Sant Gervasi| 84876|\n",
            "|           Eixample|735338|\n",
            "|        Sant Andreu| 19605|\n",
            "|       Ciutat Vella|383665|\n",
            "+-------------------+------+\n",
            "\n",
            "Number of invalid last_review values: 0\n"
          ]
        }
      ],
      "source": [
        "# Check for duplicate rows\n",
        "duplicate_count = filtered_df.count() - filtered_df.dropDuplicates().count()\n",
        "print(f\"Number of duplicate rows: {duplicate_count}\")\n",
        "\n",
        "# Separate numeric and non-numeric columns\n",
        "numeric_columns = [field.name for field in filtered_df.schema.fields if field.dataType in ['IntegerType', 'LongType', 'FloatType', 'DoubleType']]\n",
        "non_numeric_columns = [field.name for field in filtered_df.schema.fields if field.dataType not in ['IntegerType', 'LongType', 'FloatType', 'DoubleType']]\n",
        "\n",
        "# Check for null and missing values in numeric columns\n",
        "null_counts_numeric = filtered_df.select([count(when(col(c).isNull() | isnan(col(c)), c)).alias(c) for c in numeric_columns])\n",
        "null_counts_numeric.show()\n",
        "\n",
        "# Check for null values in non-numeric columns\n",
        "null_counts_non_numeric = filtered_df.select([count(when(col(c).isNull(), c)).alias(c) for c in non_numeric_columns])\n",
        "null_counts_non_numeric.show()\n",
        "\n",
        "# Verify data types\n",
        "filtered_df.printSchema()\n",
        "\n",
        "# Price should be non-negative\n",
        "invalid_prices = filtered_df.filter(col(\"price\") < 0).count()\n",
        "print(f\"Number of invalid price values: {invalid_prices}\")\n",
        "\n",
        "# Availability percentage should be between 0 and 100\n",
        "invalid_availability = filtered_df.filter((col(\"availability_percentage\") < 0) | (col(\"availability_percentage\") > 100)).count()\n",
        "print(f\"Number of invalid availability_percentage values: {invalid_availability}\")\n",
        "\n",
        "# Uniqueness check for IDs\n",
        "unique_id_count = filtered_df.select(\"id\").distinct().count()\n",
        "total_id_count = filtered_df.count()\n",
        "print(f\"Number of unique ids: {unique_id_count}, Total ids: {total_id_count}\")\n",
        "\n",
        "# Latitude should be between -90 and 90\n",
        "invalid_latitude = filtered_df.filter((col(\"latitude\") < -90) | (col(\"latitude\") > 90)).count()\n",
        "print(f\"Number of invalid latitude values: {invalid_latitude}\")\n",
        "\n",
        "# Longitude should be between -180 and 180\n",
        "invalid_longitude = filtered_df.filter((col(\"longitude\") < -180) | (col(\"longitude\") > 180)).count()\n",
        "print(f\"Number of invalid longitude values: {invalid_longitude}\")\n",
        "\n",
        "# Summary statistics\n",
        "filtered_df.describe([\"price\", \"minimum_nights\", \"number_of_reviews\", \"reviews_per_month\", \"availability_365\", \"availability_percentage\"]).show()\n",
        "\n",
        "# Distribution checks for specific columns\n",
        "filtered_df.groupBy(\"room_type\").count().show()\n",
        "filtered_df.groupBy(\"neighbourhood_group\").count().show()\n",
        "\n",
        "# Consistency checks : Last review should be before the current date\n",
        "invalid_last_review = filtered_df.filter(col(\"last_review\") > current_date()).count()\n",
        "print(f\"Number of invalid last_review values: {invalid_last_review}\")"
      ]
    },
    {
      "cell_type": "markdown",
      "metadata": {
        "id": "bW_rzGWwDNcv"
      },
      "source": [
        "## Store to Formatted Zone"
      ]
    },
    {
      "cell_type": "code",
      "execution_count": null,
      "metadata": {
        "id": "m8SqANKWK8BT"
      },
      "outputs": [],
      "source": [
        "delta_lake_path = \"/content/drive/MyDrive/BDM/Data/Formatted_Zone/filtered_df\"\n",
        "\n",
        "filtered_df.write.format(\"delta\").option(\"overwriteSchema\", \"true\").mode(\"overwrite\").save(delta_lake_path)"
      ]
    }
  ],
  "metadata": {
    "colab": {
      "toc_visible": true,
      "provenance": [],
      "include_colab_link": true
    },
    "kernelspec": {
      "display_name": "Python 3",
      "name": "python3"
    },
    "language_info": {
      "name": "python"
    }
  },
  "nbformat": 4,
  "nbformat_minor": 0
}