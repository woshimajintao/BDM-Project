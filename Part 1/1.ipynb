{
 "cells": [
  {
   "cell_type": "code",
   "execution_count": 1,
   "metadata": {},
   "outputs": [
    {
     "name": "stdout",
     "output_type": "stream",
     "text": [
      "Mayrhofen_AT 198.71878576278687\n",
      "Kitzbuehel_AT 200.07690238952637\n",
      "Ischgl_AT 203.441880941391\n",
      "Soelden_AT 199.74489068984985\n",
      "ZellAmSee_AT 203.8286201953888\n"
     ]
    }
   ],
   "source": [
    "from airbnb_parser import Parser\n",
    "import time\n",
    "import datetime\n",
    "\n",
    "if __name__ == \"__main__\":\n",
    "    # parameterize dates\n",
    "    date_1 = datetime.date.today() + datetime.timedelta(days=7)\n",
    "    date_2 = datetime.date.today() + datetime.timedelta(days=14)\n",
    "    date_1 = date_1.strftime('%Y-%m-%d')\n",
    "    date_2 = date_2.strftime('%Y-%m-%d')\n",
    "\n",
    "    locations = {\n",
    "        'Mayrhofen_AT': f'https://www.airbnb.com/s/Barcelona--Spain/homes?tab_id=home_tab&refinement_paths%5B%5D=%2Fhomes&flexible_trip_lengths%5B%5D=one_week&monthly_start_date=2024-04-01&monthly_length=3&monthly_end_date=2024-07-01&price_filter_input_type=0&channel=EXPLORE&query=Barcelona%2C%20Spain&place_id=ChIJZb1_yQvmpBIRsMmjIeD6AAM&date_picker_type=calendar&checkin=2024-03-22&checkout=2024-03-25&adults=2&source=structured_search_input_header&search_type=autocomplete_click',\n",
    "        'Kitzbuehel_AT': f'https://www.airbnb.com/s/Kitzbuhel--Austria/homes?query=Kitzbuhel%2C%20Austria&checkin={date_1}&checkout={date_2}&adults=4',\n",
    "        'Ischgl_AT': f'https://www.airbnb.com/s/Ischgl--Austria/homes?query=Ischgl%2C%20Austria&checkin={date_1}&checkout={date_2}&adults=4',\n",
    "        'Soelden_AT': f'https://www.airbnb.com/s/Solden--Austria/homes?query=Solden%2C%20Austria&checkin={date_1}&checkout={date_2}&adults=4',\n",
    "        'ZellAmSee_AT': f'https://www.airbnb.com/s/Zell-am-See--Austria/homes?query=Zell%20am%20See%2C%20Austria&checkin={date_1}&checkout={date_2}&adults=4'\n",
    "    }\n",
    "\n",
    "    for location in locations:\n",
    "        new_parser = Parser(locations[location], f'./{location}.csv')\n",
    "        t0 = time.time()\n",
    "        new_parser.parse()\n",
    "        print(location, time.time() - t0)"
   ]
  },
  {
   "cell_type": "code",
   "execution_count": null,
   "metadata": {},
   "outputs": [],
   "source": []
  }
 ],
 "metadata": {
  "kernelspec": {
   "display_name": "Python 3 (ipykernel)",
   "language": "python",
   "name": "python3"
  },
  "language_info": {
   "codemirror_mode": {
    "name": "ipython",
    "version": 3
   },
   "file_extension": ".py",
   "mimetype": "text/x-python",
   "name": "python",
   "nbconvert_exporter": "python",
   "pygments_lexer": "ipython3",
   "version": "3.11.5"
  }
 },
 "nbformat": 4,
 "nbformat_minor": 4
}
