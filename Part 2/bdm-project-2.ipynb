{
 "cells": [
  {
   "cell_type": "code",
   "execution_count": 1,
   "id": "f37a18b3",
   "metadata": {
    "execution": {
     "iopub.execute_input": "2024-05-28T09:02:45.701800Z",
     "iopub.status.busy": "2024-05-28T09:02:45.701382Z",
     "iopub.status.idle": "2024-05-28T09:03:51.233892Z",
     "shell.execute_reply": "2024-05-28T09:03:51.232602Z"
    },
    "papermill": {
     "duration": 65.542306,
     "end_time": "2024-05-28T09:03:51.237059",
     "exception": false,
     "start_time": "2024-05-28T09:02:45.694753",
     "status": "completed"
    },
    "tags": []
   },
   "outputs": [
    {
     "name": "stdout",
     "output_type": "stream",
     "text": [
      "Collecting pyspark\r\n",
      "  Downloading pyspark-3.5.1.tar.gz (317.0 MB)\r\n",
      "\u001b[2K     \u001b[90m━━━━━━━━━━━━━━━━━━━━━━━━━━━━━━━━━━━━━━━\u001b[0m \u001b[32m317.0/317.0 MB\u001b[0m \u001b[31m4.8 MB/s\u001b[0m eta \u001b[36m0:00:00\u001b[0m\r\n",
      "\u001b[?25h  Preparing metadata (setup.py) ... \u001b[?25l-\b \b\\\b \bdone\r\n",
      "\u001b[?25hRequirement already satisfied: py4j==0.10.9.7 in /opt/conda/lib/python3.10/site-packages (from pyspark) (0.10.9.7)\r\n",
      "Building wheels for collected packages: pyspark\r\n",
      "  Building wheel for pyspark (setup.py) ... \u001b[?25l-\b \b\\\b \b|\b \bdone\r\n",
      "\u001b[?25h  Created wheel for pyspark: filename=pyspark-3.5.1-py2.py3-none-any.whl size=317488493 sha256=6d11ed4515313879f2da3568caec43e095ce5ba23b023a83d7f86ab4693a15bb\r\n",
      "  Stored in directory: /root/.cache/pip/wheels/80/1d/60/2c256ed38dddce2fdd93be545214a63e02fbd8d74fb0b7f3a6\r\n",
      "Successfully built pyspark\r\n",
      "Installing collected packages: pyspark\r\n",
      "Successfully installed pyspark-3.5.1\r\n",
      "Collecting delta-spark\r\n",
      "  Downloading delta_spark-3.2.0-py3-none-any.whl.metadata (2.0 kB)\r\n",
      "Requirement already satisfied: pyspark<3.6.0,>=3.5.0 in /opt/conda/lib/python3.10/site-packages (from delta-spark) (3.5.1)\r\n",
      "Requirement already satisfied: importlib-metadata>=1.0.0 in /opt/conda/lib/python3.10/site-packages (from delta-spark) (6.11.0)\r\n",
      "Requirement already satisfied: zipp>=0.5 in /opt/conda/lib/python3.10/site-packages (from importlib-metadata>=1.0.0->delta-spark) (3.17.0)\r\n",
      "Requirement already satisfied: py4j==0.10.9.7 in /opt/conda/lib/python3.10/site-packages (from pyspark<3.6.0,>=3.5.0->delta-spark) (0.10.9.7)\r\n",
      "Downloading delta_spark-3.2.0-py3-none-any.whl (21 kB)\r\n",
      "Installing collected packages: delta-spark\r\n",
      "Successfully installed delta-spark-3.2.0\r\n"
     ]
    }
   ],
   "source": [
    "!pip install pyspark\n",
    "!pip install delta-spark\n",
    "\n",
    "import pyspark\n",
    "from delta import *"
   ]
  },
  {
   "cell_type": "code",
   "execution_count": 2,
   "id": "424a78bd",
   "metadata": {
    "_cell_guid": "b1076dfc-b9ad-4769-8c92-a6c4dae69d19",
    "_uuid": "8f2839f25d086af736a60e9eeb907d3b93b6e0e5",
    "execution": {
     "iopub.execute_input": "2024-05-28T09:03:51.261697Z",
     "iopub.status.busy": "2024-05-28T09:03:51.260294Z",
     "iopub.status.idle": "2024-05-28T09:03:52.272782Z",
     "shell.execute_reply": "2024-05-28T09:03:52.271037Z"
    },
    "papermill": {
     "duration": 1.027207,
     "end_time": "2024-05-28T09:03:52.275512",
     "exception": false,
     "start_time": "2024-05-28T09:03:51.248305",
     "status": "completed"
    },
    "tags": []
   },
   "outputs": [
    {
     "name": "stdout",
     "output_type": "stream",
     "text": [
      "/kaggle/input/madrid-airbnb-data/calendar.csv\n",
      "/kaggle/input/madrid-airbnb-data/listings.csv\n",
      "/kaggle/input/madrid-airbnb-data/listings_detailed.csv\n",
      "/kaggle/input/madrid-airbnb-data/neighbourhoods.geojson\n",
      "/kaggle/input/madrid-airbnb-data/reviews.csv\n",
      "/kaggle/input/madrid-airbnb-data/reviews_detailed.csv\n",
      "/kaggle/input/madrid-airbnb-data/neighbourhoods.csv\n",
      "/kaggle/input/barcelona-monthly-subway-users-2020/Barcelona_Monthly_Subway_Users.xlsx\n"
     ]
    }
   ],
   "source": [
    "import numpy as np # linear algebra\n",
    "import pandas as pd # data processing, CSV file I/O (e.g. pd.read_csv)\n",
    "\n",
    "import os\n",
    "for dirname, _, filenames in os.walk('/kaggle/input'):\n",
    "    for filename in filenames:\n",
    "        print(os.path.join(dirname, filename))"
   ]
  },
  {
   "cell_type": "code",
   "execution_count": 3,
   "id": "e9b7f023",
   "metadata": {
    "execution": {
     "iopub.execute_input": "2024-05-28T09:03:52.298759Z",
     "iopub.status.busy": "2024-05-28T09:03:52.298237Z",
     "iopub.status.idle": "2024-05-28T09:03:59.494422Z",
     "shell.execute_reply": "2024-05-28T09:03:59.493193Z"
    },
    "papermill": {
     "duration": 7.210794,
     "end_time": "2024-05-28T09:03:59.497058",
     "exception": false,
     "start_time": "2024-05-28T09:03:52.286264",
     "status": "completed"
    },
    "tags": []
   },
   "outputs": [
    {
     "name": "stdout",
     "output_type": "stream",
     "text": [
      "         listing_id        date available   price adjusted_price  \\\n",
      "0            167183  2021-04-15         f  $45.00         $45.00   \n",
      "1              6369  2021-04-15         t  $60.00         $60.00   \n",
      "2              6369  2021-04-16         t  $60.00         $60.00   \n",
      "3              6369  2021-04-17         t  $60.00         $60.00   \n",
      "4              6369  2021-04-18         t  $60.00         $60.00   \n",
      "...             ...         ...       ...     ...            ...   \n",
      "7161251    49103093  2022-04-10         f  $28.00         $35.00   \n",
      "7161252    49103093  2022-04-11         f  $28.00         $35.00   \n",
      "7161253    49103093  2022-04-12         f  $28.00         $35.00   \n",
      "7161254    49103093  2022-04-13         f  $28.00         $35.00   \n",
      "7161255    49103093  2022-04-14         f  $28.00         $35.00   \n",
      "\n",
      "         minimum_nights  maximum_nights  \n",
      "0                   1.0             5.0  \n",
      "1                   1.0          1125.0  \n",
      "2                   1.0          1125.0  \n",
      "3                   1.0          1125.0  \n",
      "4                   1.0          1125.0  \n",
      "...                 ...             ...  \n",
      "7161251             1.0          1125.0  \n",
      "7161252             1.0          1125.0  \n",
      "7161253             1.0          1125.0  \n",
      "7161254             1.0          1125.0  \n",
      "7161255             1.0          1125.0  \n",
      "\n",
      "[7161256 rows x 7 columns]\n"
     ]
    }
   ],
   "source": [
    "airbnb_df = pd.read_csv('/kaggle/input/madrid-airbnb-data/calendar.csv')\n",
    "\n",
    "print(airbnb_df) "
   ]
  },
  {
   "cell_type": "code",
   "execution_count": 4,
   "id": "2e85373e",
   "metadata": {
    "execution": {
     "iopub.execute_input": "2024-05-28T09:03:59.520626Z",
     "iopub.status.busy": "2024-05-28T09:03:59.520189Z",
     "iopub.status.idle": "2024-05-28T09:04:39.785495Z",
     "shell.execute_reply": "2024-05-28T09:04:39.784326Z"
    },
    "papermill": {
     "duration": 40.28056,
     "end_time": "2024-05-28T09:04:39.788334",
     "exception": false,
     "start_time": "2024-05-28T09:03:59.507774",
     "status": "completed"
    },
    "tags": []
   },
   "outputs": [],
   "source": [
    "airbnb_df['Month'] = pd.to_datetime(airbnb_df['date']).dt.strftime('%b')"
   ]
  },
  {
   "cell_type": "code",
   "execution_count": 5,
   "id": "7981d323",
   "metadata": {
    "execution": {
     "iopub.execute_input": "2024-05-28T09:04:39.813347Z",
     "iopub.status.busy": "2024-05-28T09:04:39.812947Z",
     "iopub.status.idle": "2024-05-28T09:04:40.229164Z",
     "shell.execute_reply": "2024-05-28T09:04:40.227761Z"
    },
    "papermill": {
     "duration": 0.431501,
     "end_time": "2024-05-28T09:04:40.231929",
     "exception": false,
     "start_time": "2024-05-28T09:04:39.800428",
     "status": "completed"
    },
    "tags": []
   },
   "outputs": [
    {
     "data": {
      "text/html": [
       "<div>\n",
       "<style scoped>\n",
       "    .dataframe tbody tr th:only-of-type {\n",
       "        vertical-align: middle;\n",
       "    }\n",
       "\n",
       "    .dataframe tbody tr th {\n",
       "        vertical-align: top;\n",
       "    }\n",
       "\n",
       "    .dataframe thead th {\n",
       "        text-align: right;\n",
       "    }\n",
       "</style>\n",
       "<table border=\"1\" class=\"dataframe\">\n",
       "  <thead>\n",
       "    <tr style=\"text-align: right;\">\n",
       "      <th></th>\n",
       "      <th>Month</th>\n",
       "      <th>Subway_Passengers</th>\n",
       "    </tr>\n",
       "  </thead>\n",
       "  <tbody>\n",
       "    <tr>\n",
       "      <th>0</th>\n",
       "      <td>Jan</td>\n",
       "      <td>35220</td>\n",
       "    </tr>\n",
       "    <tr>\n",
       "      <th>1</th>\n",
       "      <td>Feb</td>\n",
       "      <td>35288</td>\n",
       "    </tr>\n",
       "    <tr>\n",
       "      <th>2</th>\n",
       "      <td>Mar</td>\n",
       "      <td>17463</td>\n",
       "    </tr>\n",
       "    <tr>\n",
       "      <th>3</th>\n",
       "      <td>Apr</td>\n",
       "      <td>3247</td>\n",
       "    </tr>\n",
       "    <tr>\n",
       "      <th>4</th>\n",
       "      <td>May</td>\n",
       "      <td>6800</td>\n",
       "    </tr>\n",
       "    <tr>\n",
       "      <th>5</th>\n",
       "      <td>Jun</td>\n",
       "      <td>13633</td>\n",
       "    </tr>\n",
       "    <tr>\n",
       "      <th>6</th>\n",
       "      <td>Jul</td>\n",
       "      <td>17508</td>\n",
       "    </tr>\n",
       "    <tr>\n",
       "      <th>7</th>\n",
       "      <td>Aug</td>\n",
       "      <td>12994</td>\n",
       "    </tr>\n",
       "    <tr>\n",
       "      <th>8</th>\n",
       "      <td>Sep</td>\n",
       "      <td>18374</td>\n",
       "    </tr>\n",
       "    <tr>\n",
       "      <th>9</th>\n",
       "      <td>Oct</td>\n",
       "      <td>20199</td>\n",
       "    </tr>\n",
       "    <tr>\n",
       "      <th>10</th>\n",
       "      <td>Nov</td>\n",
       "      <td>17741</td>\n",
       "    </tr>\n",
       "    <tr>\n",
       "      <th>11</th>\n",
       "      <td>Dec</td>\n",
       "      <td>19461</td>\n",
       "    </tr>\n",
       "  </tbody>\n",
       "</table>\n",
       "</div>"
      ],
      "text/plain": [
       "   Month  Subway_Passengers\n",
       "0    Jan              35220\n",
       "1    Feb              35288\n",
       "2    Mar              17463\n",
       "3    Apr               3247\n",
       "4    May               6800\n",
       "5    Jun              13633\n",
       "6    Jul              17508\n",
       "7    Aug              12994\n",
       "8    Sep              18374\n",
       "9    Oct              20199\n",
       "10   Nov              17741\n",
       "11   Dec              19461"
      ]
     },
     "execution_count": 5,
     "metadata": {},
     "output_type": "execute_result"
    }
   ],
   "source": [
    "subway_df = pd.read_excel('/kaggle/input/barcelona-monthly-subway-users-2020/Barcelona_Monthly_Subway_Users.xlsx', \n",
    "                          sheet_name=1, \n",
    "                          skiprows=4,\n",
    "                          usecols=\"B:C\",\n",
    "                          names=['Month', 'Subway_Passengers'])\n",
    "\n",
    "subway_df"
   ]
  },
  {
   "cell_type": "code",
   "execution_count": 6,
   "id": "665f5273",
   "metadata": {
    "execution": {
     "iopub.execute_input": "2024-05-28T09:04:40.255884Z",
     "iopub.status.busy": "2024-05-28T09:04:40.255274Z",
     "iopub.status.idle": "2024-05-28T09:04:43.411633Z",
     "shell.execute_reply": "2024-05-28T09:04:43.410570Z"
    },
    "papermill": {
     "duration": 3.171045,
     "end_time": "2024-05-28T09:04:43.414229",
     "exception": false,
     "start_time": "2024-05-28T09:04:40.243184",
     "status": "completed"
    },
    "tags": []
   },
   "outputs": [
    {
     "data": {
      "text/html": [
       "<div>\n",
       "<style scoped>\n",
       "    .dataframe tbody tr th:only-of-type {\n",
       "        vertical-align: middle;\n",
       "    }\n",
       "\n",
       "    .dataframe tbody tr th {\n",
       "        vertical-align: top;\n",
       "    }\n",
       "\n",
       "    .dataframe thead th {\n",
       "        text-align: right;\n",
       "    }\n",
       "</style>\n",
       "<table border=\"1\" class=\"dataframe\">\n",
       "  <thead>\n",
       "    <tr style=\"text-align: right;\">\n",
       "      <th></th>\n",
       "      <th>listing_id</th>\n",
       "      <th>date</th>\n",
       "      <th>available</th>\n",
       "      <th>price</th>\n",
       "      <th>adjusted_price</th>\n",
       "      <th>minimum_nights</th>\n",
       "      <th>maximum_nights</th>\n",
       "      <th>Month</th>\n",
       "      <th>Subway_Passengers</th>\n",
       "    </tr>\n",
       "  </thead>\n",
       "  <tbody>\n",
       "    <tr>\n",
       "      <th>0</th>\n",
       "      <td>167183</td>\n",
       "      <td>2021-04-15</td>\n",
       "      <td>f</td>\n",
       "      <td>$45.00</td>\n",
       "      <td>$45.00</td>\n",
       "      <td>1.0</td>\n",
       "      <td>5.0</td>\n",
       "      <td>Apr</td>\n",
       "      <td>3247</td>\n",
       "    </tr>\n",
       "    <tr>\n",
       "      <th>1</th>\n",
       "      <td>6369</td>\n",
       "      <td>2021-04-15</td>\n",
       "      <td>t</td>\n",
       "      <td>$60.00</td>\n",
       "      <td>$60.00</td>\n",
       "      <td>1.0</td>\n",
       "      <td>1125.0</td>\n",
       "      <td>Apr</td>\n",
       "      <td>3247</td>\n",
       "    </tr>\n",
       "    <tr>\n",
       "      <th>2</th>\n",
       "      <td>6369</td>\n",
       "      <td>2021-04-16</td>\n",
       "      <td>t</td>\n",
       "      <td>$60.00</td>\n",
       "      <td>$60.00</td>\n",
       "      <td>1.0</td>\n",
       "      <td>1125.0</td>\n",
       "      <td>Apr</td>\n",
       "      <td>3247</td>\n",
       "    </tr>\n",
       "    <tr>\n",
       "      <th>3</th>\n",
       "      <td>6369</td>\n",
       "      <td>2021-04-17</td>\n",
       "      <td>t</td>\n",
       "      <td>$60.00</td>\n",
       "      <td>$60.00</td>\n",
       "      <td>1.0</td>\n",
       "      <td>1125.0</td>\n",
       "      <td>Apr</td>\n",
       "      <td>3247</td>\n",
       "    </tr>\n",
       "    <tr>\n",
       "      <th>4</th>\n",
       "      <td>6369</td>\n",
       "      <td>2021-04-18</td>\n",
       "      <td>t</td>\n",
       "      <td>$60.00</td>\n",
       "      <td>$60.00</td>\n",
       "      <td>1.0</td>\n",
       "      <td>1125.0</td>\n",
       "      <td>Apr</td>\n",
       "      <td>3247</td>\n",
       "    </tr>\n",
       "    <tr>\n",
       "      <th>...</th>\n",
       "      <td>...</td>\n",
       "      <td>...</td>\n",
       "      <td>...</td>\n",
       "      <td>...</td>\n",
       "      <td>...</td>\n",
       "      <td>...</td>\n",
       "      <td>...</td>\n",
       "      <td>...</td>\n",
       "      <td>...</td>\n",
       "    </tr>\n",
       "    <tr>\n",
       "      <th>7161251</th>\n",
       "      <td>49103093</td>\n",
       "      <td>2022-04-10</td>\n",
       "      <td>f</td>\n",
       "      <td>$28.00</td>\n",
       "      <td>$35.00</td>\n",
       "      <td>1.0</td>\n",
       "      <td>1125.0</td>\n",
       "      <td>Apr</td>\n",
       "      <td>3247</td>\n",
       "    </tr>\n",
       "    <tr>\n",
       "      <th>7161252</th>\n",
       "      <td>49103093</td>\n",
       "      <td>2022-04-11</td>\n",
       "      <td>f</td>\n",
       "      <td>$28.00</td>\n",
       "      <td>$35.00</td>\n",
       "      <td>1.0</td>\n",
       "      <td>1125.0</td>\n",
       "      <td>Apr</td>\n",
       "      <td>3247</td>\n",
       "    </tr>\n",
       "    <tr>\n",
       "      <th>7161253</th>\n",
       "      <td>49103093</td>\n",
       "      <td>2022-04-12</td>\n",
       "      <td>f</td>\n",
       "      <td>$28.00</td>\n",
       "      <td>$35.00</td>\n",
       "      <td>1.0</td>\n",
       "      <td>1125.0</td>\n",
       "      <td>Apr</td>\n",
       "      <td>3247</td>\n",
       "    </tr>\n",
       "    <tr>\n",
       "      <th>7161254</th>\n",
       "      <td>49103093</td>\n",
       "      <td>2022-04-13</td>\n",
       "      <td>f</td>\n",
       "      <td>$28.00</td>\n",
       "      <td>$35.00</td>\n",
       "      <td>1.0</td>\n",
       "      <td>1125.0</td>\n",
       "      <td>Apr</td>\n",
       "      <td>3247</td>\n",
       "    </tr>\n",
       "    <tr>\n",
       "      <th>7161255</th>\n",
       "      <td>49103093</td>\n",
       "      <td>2022-04-14</td>\n",
       "      <td>f</td>\n",
       "      <td>$28.00</td>\n",
       "      <td>$35.00</td>\n",
       "      <td>1.0</td>\n",
       "      <td>1125.0</td>\n",
       "      <td>Apr</td>\n",
       "      <td>3247</td>\n",
       "    </tr>\n",
       "  </tbody>\n",
       "</table>\n",
       "<p>7161256 rows × 9 columns</p>\n",
       "</div>"
      ],
      "text/plain": [
       "         listing_id        date available   price adjusted_price  \\\n",
       "0            167183  2021-04-15         f  $45.00         $45.00   \n",
       "1              6369  2021-04-15         t  $60.00         $60.00   \n",
       "2              6369  2021-04-16         t  $60.00         $60.00   \n",
       "3              6369  2021-04-17         t  $60.00         $60.00   \n",
       "4              6369  2021-04-18         t  $60.00         $60.00   \n",
       "...             ...         ...       ...     ...            ...   \n",
       "7161251    49103093  2022-04-10         f  $28.00         $35.00   \n",
       "7161252    49103093  2022-04-11         f  $28.00         $35.00   \n",
       "7161253    49103093  2022-04-12         f  $28.00         $35.00   \n",
       "7161254    49103093  2022-04-13         f  $28.00         $35.00   \n",
       "7161255    49103093  2022-04-14         f  $28.00         $35.00   \n",
       "\n",
       "         minimum_nights  maximum_nights Month  Subway_Passengers  \n",
       "0                   1.0             5.0   Apr               3247  \n",
       "1                   1.0          1125.0   Apr               3247  \n",
       "2                   1.0          1125.0   Apr               3247  \n",
       "3                   1.0          1125.0   Apr               3247  \n",
       "4                   1.0          1125.0   Apr               3247  \n",
       "...                 ...             ...   ...                ...  \n",
       "7161251             1.0          1125.0   Apr               3247  \n",
       "7161252             1.0          1125.0   Apr               3247  \n",
       "7161253             1.0          1125.0   Apr               3247  \n",
       "7161254             1.0          1125.0   Apr               3247  \n",
       "7161255             1.0          1125.0   Apr               3247  \n",
       "\n",
       "[7161256 rows x 9 columns]"
      ]
     },
     "execution_count": 6,
     "metadata": {},
     "output_type": "execute_result"
    }
   ],
   "source": [
    "df = pd.merge(airbnb_df, subway_df, on='Month', how='left')\n",
    "df"
   ]
  },
  {
   "cell_type": "code",
   "execution_count": 7,
   "id": "be57e828",
   "metadata": {
    "execution": {
     "iopub.execute_input": "2024-05-28T09:04:43.438870Z",
     "iopub.status.busy": "2024-05-28T09:04:43.438079Z",
     "iopub.status.idle": "2024-05-28T09:04:43.912331Z",
     "shell.execute_reply": "2024-05-28T09:04:43.911239Z"
    },
    "papermill": {
     "duration": 0.489355,
     "end_time": "2024-05-28T09:04:43.914734",
     "exception": false,
     "start_time": "2024-05-28T09:04:43.425379",
     "status": "completed"
    },
    "tags": []
   },
   "outputs": [
    {
     "data": {
      "text/plain": [
       "array(['Apr', 'May', 'Jun', 'Jul', 'Aug', 'Sep', 'Oct', 'Nov', 'Dec',\n",
       "       'Jan', 'Feb', 'Mar'], dtype=object)"
      ]
     },
     "execution_count": 7,
     "metadata": {},
     "output_type": "execute_result"
    }
   ],
   "source": [
    "df['Month'].unique()"
   ]
  },
  {
   "cell_type": "markdown",
   "id": "5040cf77",
   "metadata": {
    "papermill": {
     "duration": 0.011099,
     "end_time": "2024-05-28T09:04:43.938246",
     "exception": false,
     "start_time": "2024-05-28T09:04:43.927147",
     "status": "completed"
    },
    "tags": []
   },
   "source": [
    "# Create Spark & Delta Lake"
   ]
  },
  {
   "cell_type": "code",
   "execution_count": 8,
   "id": "7021c787",
   "metadata": {
    "execution": {
     "iopub.execute_input": "2024-05-28T09:04:43.962436Z",
     "iopub.status.busy": "2024-05-28T09:04:43.961949Z",
     "iopub.status.idle": "2024-05-28T09:04:56.465704Z",
     "shell.execute_reply": "2024-05-28T09:04:56.464283Z"
    },
    "papermill": {
     "duration": 12.51963,
     "end_time": "2024-05-28T09:04:56.469034",
     "exception": false,
     "start_time": "2024-05-28T09:04:43.949404",
     "status": "completed"
    },
    "tags": []
   },
   "outputs": [
    {
     "name": "stdout",
     "output_type": "stream",
     "text": [
      ":: loading settings :: url = jar:file:/opt/conda/lib/python3.10/site-packages/pyspark/jars/ivy-2.5.1.jar!/org/apache/ivy/core/settings/ivysettings.xml\n"
     ]
    },
    {
     "name": "stderr",
     "output_type": "stream",
     "text": [
      "Ivy Default Cache set to: /root/.ivy2/cache\n",
      "The jars for the packages stored in: /root/.ivy2/jars\n",
      "io.delta#delta-spark_2.12 added as a dependency\n",
      ":: resolving dependencies :: org.apache.spark#spark-submit-parent-8e723294-8554-4a57-ae4b-0cbc5755cbb6;1.0\n",
      "\tconfs: [default]\n",
      "\tfound io.delta#delta-spark_2.12;3.2.0 in central\n",
      "\tfound io.delta#delta-storage;3.2.0 in central\n",
      "\tfound org.antlr#antlr4-runtime;4.9.3 in central\n",
      "downloading https://repo1.maven.org/maven2/io/delta/delta-spark_2.12/3.2.0/delta-spark_2.12-3.2.0.jar ...\n",
      "\t[SUCCESSFUL ] io.delta#delta-spark_2.12;3.2.0!delta-spark_2.12.jar (1118ms)\n",
      "downloading https://repo1.maven.org/maven2/io/delta/delta-storage/3.2.0/delta-storage-3.2.0.jar ...\n",
      "\t[SUCCESSFUL ] io.delta#delta-storage;3.2.0!delta-storage.jar (250ms)\n",
      "downloading https://repo1.maven.org/maven2/org/antlr/antlr4-runtime/4.9.3/antlr4-runtime-4.9.3.jar ...\n",
      "\t[SUCCESSFUL ] org.antlr#antlr4-runtime;4.9.3!antlr4-runtime.jar (251ms)\n",
      ":: resolution report :: resolve 4120ms :: artifacts dl 1628ms\n",
      "\t:: modules in use:\n",
      "\tio.delta#delta-spark_2.12;3.2.0 from central in [default]\n",
      "\tio.delta#delta-storage;3.2.0 from central in [default]\n",
      "\torg.antlr#antlr4-runtime;4.9.3 from central in [default]\n",
      "\t---------------------------------------------------------------------\n",
      "\t|                  |            modules            ||   artifacts   |\n",
      "\t|       conf       | number| search|dwnlded|evicted|| number|dwnlded|\n",
      "\t---------------------------------------------------------------------\n",
      "\t|      default     |   3   |   3   |   3   |   0   ||   3   |   3   |\n",
      "\t---------------------------------------------------------------------\n",
      ":: retrieving :: org.apache.spark#spark-submit-parent-8e723294-8554-4a57-ae4b-0cbc5755cbb6\n",
      "\tconfs: [default]\n",
      "\t3 artifacts copied, 0 already retrieved (6321kB/21ms)\n",
      "24/05/28 09:04:53 WARN NativeCodeLoader: Unable to load native-hadoop library for your platform... using builtin-java classes where applicable\n",
      "Setting default log level to \"WARN\".\n",
      "To adjust logging level use sc.setLogLevel(newLevel). For SparkR, use setLogLevel(newLevel).\n"
     ]
    }
   ],
   "source": [
    "builder = pyspark.sql.SparkSession.builder.appName(\"MyApp\") \\\n",
    "    .config(\"spark.sql.extensions\", \"io.delta.sql.DeltaSparkSessionExtension\") \\\n",
    "    .config(\"spark.sql.catalog.spark_catalog\", \"org.apache.spark.sql.delta.catalog.DeltaCatalog\")\n",
    "\n",
    "spark = configure_spark_with_delta_pip(builder).getOrCreate()"
   ]
  },
  {
   "cell_type": "code",
   "execution_count": 9,
   "id": "b3f473f8",
   "metadata": {
    "execution": {
     "iopub.execute_input": "2024-05-28T09:04:56.500656Z",
     "iopub.status.busy": "2024-05-28T09:04:56.499402Z",
     "iopub.status.idle": "2024-05-28T09:13:43.636806Z",
     "shell.execute_reply": "2024-05-28T09:13:43.635210Z"
    },
    "papermill": {
     "duration": 527.155146,
     "end_time": "2024-05-28T09:13:43.639891",
     "exception": false,
     "start_time": "2024-05-28T09:04:56.484745",
     "status": "completed"
    },
    "tags": []
   },
   "outputs": [],
   "source": [
    "HR = spark.createDataFrame(df)"
   ]
  },
  {
   "cell_type": "code",
   "execution_count": 10,
   "id": "9b031101",
   "metadata": {
    "execution": {
     "iopub.execute_input": "2024-05-28T09:13:43.668034Z",
     "iopub.status.busy": "2024-05-28T09:13:43.667611Z",
     "iopub.status.idle": "2024-05-28T09:13:53.027157Z",
     "shell.execute_reply": "2024-05-28T09:13:53.025614Z"
    },
    "papermill": {
     "duration": 9.378602,
     "end_time": "2024-05-28T09:13:53.032769",
     "exception": false,
     "start_time": "2024-05-28T09:13:43.654167",
     "status": "completed"
    },
    "tags": []
   },
   "outputs": [
    {
     "name": "stderr",
     "output_type": "stream",
     "text": [
      "24/05/28 09:13:45 WARN TaskSetManager: Stage 0 contains a task of very large size (92418 KiB). The maximum recommended task size is 1000 KiB.\n",
      "24/05/28 09:13:51 WARN PythonRunner: Detected deadlock while completing task 0.0 in stage 0 (TID 0): Attempting to kill Python Worker\n",
      "                                                                                \r"
     ]
    },
    {
     "name": "stdout",
     "output_type": "stream",
     "text": [
      "+----------+----------+---------+------+--------------+--------------+--------------+-----+-----------------+\n",
      "|listing_id|      date|available| price|adjusted_price|minimum_nights|maximum_nights|Month|Subway_Passengers|\n",
      "+----------+----------+---------+------+--------------+--------------+--------------+-----+-----------------+\n",
      "|    167183|2021-04-15|        f|$45.00|        $45.00|           1.0|           5.0|  Apr|             3247|\n",
      "|      6369|2021-04-15|        t|$60.00|        $60.00|           1.0|        1125.0|  Apr|             3247|\n",
      "|      6369|2021-04-16|        t|$60.00|        $60.00|           1.0|        1125.0|  Apr|             3247|\n",
      "|      6369|2021-04-17|        t|$60.00|        $60.00|           1.0|        1125.0|  Apr|             3247|\n",
      "|      6369|2021-04-18|        t|$60.00|        $60.00|           1.0|        1125.0|  Apr|             3247|\n",
      "|      6369|2021-04-19|        t|$60.00|        $60.00|           1.0|        1125.0|  Apr|             3247|\n",
      "|      6369|2021-04-20|        t|$60.00|        $60.00|           1.0|        1125.0|  Apr|             3247|\n",
      "|      6369|2021-04-21|        t|$60.00|        $60.00|           1.0|        1125.0|  Apr|             3247|\n",
      "|      6369|2021-04-22|        t|$60.00|        $60.00|           1.0|        1125.0|  Apr|             3247|\n",
      "|      6369|2021-04-23|        t|$60.00|        $60.00|           1.0|        1125.0|  Apr|             3247|\n",
      "|      6369|2021-04-24|        t|$60.00|        $60.00|           1.0|        1125.0|  Apr|             3247|\n",
      "|      6369|2021-04-25|        t|$60.00|        $60.00|           1.0|        1125.0|  Apr|             3247|\n",
      "|      6369|2021-04-26|        t|$60.00|        $60.00|           1.0|        1125.0|  Apr|             3247|\n",
      "|      6369|2021-04-27|        t|$60.00|        $60.00|           1.0|        1125.0|  Apr|             3247|\n",
      "|      6369|2021-04-28|        t|$60.00|        $60.00|           1.0|        1125.0|  Apr|             3247|\n",
      "|      6369|2021-04-29|        t|$60.00|        $60.00|           1.0|        1125.0|  Apr|             3247|\n",
      "|      6369|2021-04-30|        t|$60.00|        $60.00|           1.0|        1125.0|  Apr|             3247|\n",
      "|      6369|2021-05-01|        t|$60.00|        $60.00|           1.0|        1125.0|  May|             6800|\n",
      "|      6369|2021-05-02|        t|$60.00|        $60.00|           1.0|        1125.0|  May|             6800|\n",
      "|      6369|2021-05-03|        t|$60.00|        $60.00|           1.0|        1125.0|  May|             6800|\n",
      "+----------+----------+---------+------+--------------+--------------+--------------+-----+-----------------+\n",
      "only showing top 20 rows\n",
      "\n"
     ]
    }
   ],
   "source": [
    "HR.show()"
   ]
  }
 ],
 "metadata": {
  "kaggle": {
   "accelerator": "none",
   "dataSources": [
    {
     "datasetId": 432906,
     "sourceId": 2259907,
     "sourceType": "datasetVersion"
    },
    {
     "datasetId": 5099898,
     "sourceId": 8537688,
     "sourceType": "datasetVersion"
    }
   ],
   "dockerImageVersionId": 30698,
   "isGpuEnabled": false,
   "isInternetEnabled": true,
   "language": "python",
   "sourceType": "notebook"
  },
  "kernelspec": {
   "display_name": "Python 3",
   "language": "python",
   "name": "python3"
  },
  "language_info": {
   "codemirror_mode": {
    "name": "ipython",
    "version": 3
   },
   "file_extension": ".py",
   "mimetype": "text/x-python",
   "name": "python",
   "nbconvert_exporter": "python",
   "pygments_lexer": "ipython3",
   "version": "3.10.13"
  },
  "papermill": {
   "default_parameters": {},
   "duration": 673.049119,
   "end_time": "2024-05-28T09:13:55.782562",
   "environment_variables": {},
   "exception": null,
   "input_path": "__notebook__.ipynb",
   "output_path": "__notebook__.ipynb",
   "parameters": {},
   "start_time": "2024-05-28T09:02:42.733443",
   "version": "2.5.0"
  }
 },
 "nbformat": 4,
 "nbformat_minor": 5
}
